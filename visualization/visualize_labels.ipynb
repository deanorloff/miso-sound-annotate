{
 "cells": [
  {
   "cell_type": "code",
   "execution_count": 7,
   "id": "e9af864a",
   "metadata": {},
   "outputs": [],
   "source": [
    "import pathlib\n",
    "import os\n",
    "import pandas as pd"
   ]
  },
  {
   "cell_type": "code",
   "execution_count": 8,
   "id": "b42c015f",
   "metadata": {},
   "outputs": [],
   "source": [
    "code_paths = {}\n",
    "code_paths[\"repo_name\"] = \"miso-sound-annotate\"\n",
    "\n",
    "code_paths[\"repo_path\"] = os.getcwd()\n",
    "base_dir = os.path.basename(code_paths[\"repo_path\"])\n",
    "while base_dir != code_paths[\"repo_name\"]:\n",
    "    code_paths[\"repo_path\"] = os.path.dirname(\n",
    "        os.path.abspath(code_paths[\"repo_path\"]))\n",
    "    base_dir = os.path.basename(code_paths[\"repo_path\"])\n"
   ]
  },
  {
   "cell_type": "code",
   "execution_count": 15,
   "id": "db3b60b3",
   "metadata": {},
   "outputs": [],
   "source": [
    "package_dir = code_paths[\"repo_path\"]\n",
    "\n",
    "label_dir = pathlib.Path(package_dir, \"labels\")\n",
    "label_file_paths = list(pathlib.Path(label_dir).glob(\"*.txt\"))\n"
   ]
  },
  {
   "cell_type": "code",
   "execution_count": 85,
   "id": "5a07262e",
   "metadata": {},
   "outputs": [],
   "source": [
    "all_records = []\n",
    "for p in label_file_paths:\n",
    "    anno_df = pd.read_table(p, header=None)\n",
    "    label_names = anno_df.iloc[:,2]\n",
    "    anno_df.columns = [\"Start\", \"Stop\", \"Label\"]\n",
    "    anno_df[\"Duration\"] = anno_df[\"Stop\"] - anno_df[\"Start\"]\n",
    "    anno_df[\"File\"] = pathlib.Path(p).stem.split(\"_labels\")[0]\n",
    "    anno_df[\"Salience\"] = [label.split(\"C\")[1].split(\"-\")[0] for label in anno_df[\"Label\"].values]\n",
    "    anno_df[\"Label\"] = [label.split(\"-\")[1] for label in anno_df[\"Label\"].values]\n",
    "    records = anno_df.to_dict(\"records\")\n",
    "    all_records.extend(records)"
   ]
  },
  {
   "cell_type": "code",
   "execution_count": 86,
   "id": "6f14c40d",
   "metadata": {},
   "outputs": [],
   "source": [
    "label_timing_df = pd.DataFrame(all_records)"
   ]
  },
  {
   "cell_type": "code",
   "execution_count": 93,
   "id": "f413d860",
   "metadata": {},
   "outputs": [],
   "source": [
    "summary_dfs = []\n",
    "summary_dfs.append(\n",
    "    label_timing_df.groupby([\"Label\"])\n",
    "    .sum()\n",
    "    .loc[:, [\"Duration\"]]\n",
    "    .rename(columns={\"Duration\": \"Total duration\"})\n",
    ")\n",
    "summary_dfs.append(\n",
    "    label_timing_df.groupby([\"Label\"])\n",
    "    .mean()\n",
    "    .loc[:, [\"Duration\"]]\n",
    "    .rename(columns={\"Duration\": \"Mean duration\"})\n",
    ")\n",
    "summary_dfs.append(\n",
    "    label_timing_df.groupby([\"Label\"])\n",
    "    .count()\n",
    "    .loc[:, [\"Duration\"]]\n",
    "    .rename(columns={\"Duration\": \"Count of label instances\"})\n",
    ")\n",
    "summary_dfs.append(\n",
    "    label_timing_df.drop_duplicates(subset=[\"Label\", \"File\"])\n",
    "    .groupby([\"Label\"])\n",
    "    .count()\n",
    "    .loc[:, [\"Duration\"]]\n",
    "    .rename(columns={\"Duration\": \"Count of files with label\"})\n",
    ")\n",
    "summary_df = pd.concat(summary_dfs, axis=1).sort_values(by=[\"Count of files with label\"], ascending=False)"
   ]
  },
  {
   "cell_type": "code",
   "execution_count": 97,
   "id": "cd8f6324",
   "metadata": {},
   "outputs": [],
   "source": [
    "with open(\"summary_annotations.md\", \"w\") as f:\n",
    "    f.write(summary_df.reset_index().to_markdown())"
   ]
  },
  {
   "cell_type": "code",
   "execution_count": 118,
   "id": "989a309d",
   "metadata": {},
   "outputs": [],
   "source": [
    "summary_table = summary_df.reset_index().to_markdown()"
   ]
  },
  {
   "cell_type": "code",
   "execution_count": 103,
   "id": "331051e8",
   "metadata": {},
   "outputs": [],
   "source": [
    "import re"
   ]
  },
  {
   "cell_type": "code",
   "execution_count": 110,
   "id": "e8bed14e",
   "metadata": {},
   "outputs": [
    {
     "data": {
      "text/plain": [
       "'# miso-sound-annotate\\n\\nGoal: annotating 5+ instances of 10+ audio files (e.g. onset & offset of sound of interest, salience)\\n\\nSound Search Steps:\\n- Populate \"current_term_present\" and \"other_term_present\" columns with \"yes\", \"no\", or \"unsure\". Populate \"notes\" with notable descriptions and any other present sounds. \\n- Populate \"background_noise_present\" column. Use \"yes\", \"no\", or \"unsure\" labels. \\n- Continue process for given class until 5 instances have \"no\" under \"background_noise_present\", then move to next class. \\n\\nAudacity Labeling Steps:\\n- Download each of the 5 sounds from 10 classes. \\n- Highlight and label each sound in audacity (including the \"other_term_present\" labels). \\n- file>export>export labels\\n- Save .txt file as \"NumberAtTheEndOfURL_labels.txt\" (Ex. \"180150_labels.txt\"). \\n\\nTaxonomy Labeling Steps:\\n- Add each label created in Audacity to the JSON viewer or JSON file directly in GitHub. Use appropriate parent sounds. \\n- Commit changes to GitHub.\\n\\n<!---\\nstart_sync_summary_table\\n-->\\n\\n<!---\\nstop_sync_summary_table\\n-->'"
      ]
     },
     "execution_count": 110,
     "metadata": {},
     "output_type": "execute_result"
    }
   ],
   "source": [
    "old_readme"
   ]
  },
  {
   "cell_type": "code",
   "execution_count": 128,
   "id": "543cef5d",
   "metadata": {},
   "outputs": [],
   "source": [
    "with open(pathlib.Path(package_dir,\"README.md\")) as f:\n",
    "    old_readme = f.read()\n",
    "\n",
    "start_str =\"start_sync_summary_table\"\n",
    "stop_str = \"stop_sync_summary_table\"\n",
    "end_comment_str = \"\\n-->\\n\"\n",
    "start_comment_str = \"\\n<!---\\n\"\n",
    "result = re.findall(r\"\" + start_str + \"(.*?)\" + stop_str, old_readme, re.DOTALL|re.MULTILINE)[0]\n",
    "old_replace_content = start_str + result + stop_str\n",
    "new_replace_content = start_str + end_comment_str + summary_table + start_comment_str + stop_str\n",
    "new_readme = old_readme.replace(old_replace_content, new_replace_content)\n",
    "\n",
    "with open(pathlib.Path(package_dir,\"README.md\"), \"w\") as f:\n",
    "    f.write(new_readme)"
   ]
  },
  {
   "cell_type": "code",
   "execution_count": 129,
   "id": "ae8a0c46",
   "metadata": {},
   "outputs": [
    {
     "data": {
      "text/plain": [
       "'# miso-sound-annotate\\n\\nGoal: annotating 5+ instances of 10+ audio files (e.g. onset & offset of sound of interest, salience)\\n\\nSound Search Steps:\\n- Populate \"current_term_present\" and \"other_term_present\" columns with \"yes\", \"no\", or \"unsure\". Populate \"notes\" with notable descriptions and any other present sounds. \\n- Populate \"background_noise_present\" column. Use \"yes\", \"no\", or \"unsure\" labels. \\n- Continue process for given class until 5 instances have \"no\" under \"background_noise_present\", then move to next class. \\n\\nAudacity Labeling Steps:\\n- Download each of the 5 sounds from 10 classes. \\n- Highlight and label each sound in audacity (including the \"other_term_present\" labels). \\n- file>export>export labels\\n- Save .txt file as \"NumberAtTheEndOfURL_labels.txt\" (Ex. \"180150_labels.txt\"). \\n\\nTaxonomy Labeling Steps:\\n- Add each label created in Audacity to the JSON viewer or JSON file directly in GitHub. Use appropriate parent sounds. \\n- Commit changes to GitHub.\\n\\n<!---\\nstart_sync_summary_table\\n-->\\n|    | Label                    |   Total duration |   Mean duration |   Count of label instances |   Count of files with label |\\n|---:|:-------------------------|-----------------:|----------------:|---------------------------:|----------------------------:|\\n|  0 | slurping                 |        49.8157   |        2.07565  |                         24 |                           6 |\\n|  1 | lip_smacks               |        70.1987   |        4.67991  |                         15 |                           6 |\\n|  2 | plastic_crumpling        |        32.9493   |        4.70705  |                          7 |                           5 |\\n|  3 | human_breathing          |       131.001    |       13.1001   |                         10 |                           5 |\\n|  4 | basketball_dribbling     |       110.867    |        5.03943  |                         22 |                           5 |\\n|  5 | typing                   |       109.908    |        6.46515  |                         17 |                           5 |\\n|  6 | knife_cutting            |        71.0147   |        5.46267  |                         13 |                           5 |\\n|  7 | flipping_newspaper_pages |        78.3414   |        4.3523   |                         18 |                           5 |\\n|  8 | chewing_gum              |        50.0861   |        5.56512  |                          9 |                           5 |\\n|  9 | water_drops              |       374.744    |       34.0676   |                         11 |                           5 |\\n| 10 | exhaling                 |        14.0364   |        1.55959  |                          9 |                           4 |\\n| 11 | recording_artifact       |        28.3371   |        5.66742  |                          5 |                           4 |\\n| 12 | talking                  |         8.72669  |        2.18167  |                          4 |                           3 |\\n| 13 | footsteps                |         2.07991  |        1.03996  |                          2 |                           2 |\\n| 14 | tapping                  |        13.2682   |        2.65363  |                          5 |                           2 |\\n| 15 | swallowing               |         4.55834  |        0.911668 |                          5 |                           2 |\\n| 16 | tearing_paper            |         1.86925  |        1.86925  |                          1 |                           1 |\\n| 17 | basketball_dribbing      |         2.13041  |        2.13041  |                          1 |                           1 |\\n| 18 | squishing                |         4.94966  |        4.94966  |                          1 |                           1 |\\n| 19 | sliding_ceramic          |         1.98347  |        0.991737 |                          2 |                           1 |\\n| 20 | mouth_sounds_other       |         9.60523  |        3.20174  |                          3 |                           1 |\\n| 21 | birds_chirping           |         3.79394  |        3.79394  |                          1 |                           1 |\\n| 22 | whimpering               |         0.214064 |        0.214064 |                          1 |                           1 |\\n<!---\\nstop_sync_summary_table\\n-->'"
      ]
     },
     "execution_count": 129,
     "metadata": {},
     "output_type": "execute_result"
    }
   ],
   "source": [
    "new_readme"
   ]
  },
  {
   "cell_type": "code",
   "execution_count": 117,
   "id": "4aa21e26",
   "metadata": {},
   "outputs": [
    {
     "data": {
      "text/plain": [
       "'\\n-->\\n\\n<!---\\n'"
      ]
     },
     "execution_count": 117,
     "metadata": {},
     "output_type": "execute_result"
    }
   ],
   "source": [
    "result"
   ]
  },
  {
   "cell_type": "code",
   "execution_count": 44,
   "id": "8c4cb9b2",
   "metadata": {},
   "outputs": [
    {
     "data": {
      "application/vnd.plotly.v1+json": {
       "config": {
        "plotlyServerURL": "https://plot.ly"
       },
       "data": [
        {
         "alignmentgroup": "True",
         "hovertemplate": "Label=%{x}<br>Duration=%{y}<extra></extra>",
         "legendgroup": "",
         "marker": {
          "color": "#636efa"
         },
         "name": "",
         "notched": false,
         "offsetgroup": "",
         "orientation": "v",
         "showlegend": false,
         "type": "box",
         "x": [
          "chewing_gum",
          "talking",
          "lip_smacks",
          "mouth_sounds_other",
          "lip_smacks",
          "mouth_sounds_other",
          "lip_smacks",
          "mouth_sounds_other",
          "water_drops",
          "basketball_dribbling",
          "basketball_dribbling",
          "basketball_dribbling",
          "basketball_dribbling",
          "chewing_gum",
          "human_breathing",
          "sliding_ceramic",
          "slurping",
          "exhaling",
          "tapping",
          "sliding_ceramic",
          "slurping",
          "exhaling",
          "slurping",
          "exhaling",
          "tapping",
          "water_drops",
          "water_drops",
          "recording_artifact",
          "water_drops",
          "water_drops",
          "recording_artifact",
          "water_drops",
          "water_drops",
          "water_drops",
          "basketball_dribbling",
          "basketball_dribbling",
          "basketball_dribbling",
          "basketball_dribbling",
          "knife_cutting",
          "knife_cutting",
          "squishing",
          "chewing_gum",
          "exhaling",
          "chewing_gum",
          "exhaling",
          "exhaling",
          "chewing_gum",
          "exhaling",
          "flipping_newspaper_pages",
          "flipping_newspaper_pages",
          "flipping_newspaper_pages",
          "flipping_newspaper_pages",
          "flipping_newspaper_pages",
          "flipping_newspaper_pages",
          "flipping_newspaper_pages",
          "flipping_newspaper_pages",
          "recording_artifact",
          "human_breathing",
          "human_breathing",
          "human_breathing",
          "human_breathing",
          "water_drops",
          "human_breathing",
          "whimpering",
          "human_breathing",
          "plastic_crumpling",
          "plastic_crumpling",
          "lip_smacks",
          "lip_smacks",
          "tearing_paper",
          "slurping",
          "slurping",
          "slurping",
          "tapping",
          "slurping",
          "slurping",
          "slurping",
          "slurping",
          "slurping",
          "tapping",
          "tapping",
          "slurping",
          "chewing_gum",
          "chewing_gum",
          "chewing_gum",
          "knife_cutting",
          "knife_cutting",
          "water_drops",
          "lip_smacks",
          "lip_smacks",
          "lip_smacks",
          "plastic_crumpling",
          "plastic_crumpling",
          "typing",
          "basketball_dribbling",
          "basketball_dribbling",
          "basketball_dribbling",
          "basketball_dribbing",
          "typing",
          "typing",
          "typing",
          "typing",
          "typing",
          "typing",
          "human_breathing",
          "human_breathing",
          "footsteps",
          "flipping_newspaper_pages",
          "flipping_newspaper_pages",
          "exhaling",
          "flipping_newspaper_pages",
          "flipping_newspaper_pages",
          "flipping_newspaper_pages",
          "water_drops",
          "talking",
          "recording_artifact",
          "slurping",
          "footsteps",
          "lip_smacks",
          "recording_artifact",
          "slurping",
          "swallowing",
          "slurping",
          "swallowing",
          "slurping",
          "swallowing",
          "slurping",
          "swallowing",
          "basketball_dribbling",
          "basketball_dribbling",
          "basketball_dribbling",
          "basketball_dribbling",
          "basketball_dribbling",
          "basketball_dribbling",
          "basketball_dribbling",
          "basketball_dribbling",
          "basketball_dribbling",
          "typing",
          "typing",
          "typing",
          "typing",
          "typing",
          "knife_cutting",
          "knife_cutting",
          "plastic_crumpling",
          "plastic_crumpling",
          "typing",
          "typing",
          "typing",
          "typing",
          "lip_smacks",
          "human_breathing",
          "slurping",
          "flipping_newspaper_pages",
          "flipping_newspaper_pages",
          "basketball_dribbling",
          "basketball_dribbling",
          "chewing_gum",
          "typing",
          "birds_chirping",
          "flipping_newspaper_pages",
          "flipping_newspaper_pages",
          "flipping_newspaper_pages",
          "lip_smacks",
          "slurping",
          "slurping",
          "slurping",
          "lip_smacks",
          "slurping",
          "lip_smacks",
          "lip_smacks",
          "talking",
          "exhaling",
          "slurping",
          "swallowing",
          "lip_smacks",
          "talking",
          "slurping",
          "plastic_crumpling",
          "knife_cutting",
          "knife_cutting",
          "knife_cutting",
          "knife_cutting",
          "knife_cutting",
          "knife_cutting",
          "knife_cutting"
         ],
         "x0": " ",
         "xaxis": "x",
         "y": [
          10.305492,
          2.8042160000000003,
          1.210829,
          1.9332560000000005,
          3.4289869999999993,
          5.606444,
          1.4143300000000014,
          2.065532000000001,
          101.318,
          2.4907399999999997,
          2.377657,
          2.734305,
          0.939464000000001,
          9.605498,
          12.828765,
          1.013598,
          1.244142,
          1.6654810000000007,
          2.8857739999999996,
          0.969875,
          2.2617150000000006,
          1.4190380000000005,
          4.006695000000001,
          2.0510459999999995,
          0.16893300000000266,
          0.5499700000000001,
          7.035034999999999,
          7.241274000000001,
          0.595800999999998,
          7.401682000000001,
          1.042652000000004,
          10.289026,
          11.159811000000005,
          17.484469000000004,
          13.728928,
          4.771711,
          4.818607999999998,
          14.309270999999999,
          4.0601840000000005,
          4.112506,
          4.949657,
          4.893615,
          1.436813,
          5.197881,
          0.8113770000000002,
          0.8367319999999996,
          1.1409979999999997,
          0.8029249999999983,
          1.651316,
          2.191881,
          1.7772010000000007,
          1.3032810000000001,
          1.399545999999999,
          1.8734660000000005,
          1.414355999999998,
          1.8142260000000014,
          3.0878869999999985,
          15.503853999999999,
          10.459056,
          19.661949999999997,
          1.9077529999999996,
          77.66187799999999,
          11.02033,
          0.21406400000000048,
          17.489818999999997,
          7.5040000000000004,
          5.927999999999999,
          0.9103770000000001,
          2.332915,
          1.869253,
          1.6749409999999996,
          1.5801929999999995,
          6.3721640000000015,
          1.5288059999999994,
          4.7534279999999995,
          0.5652720000000002,
          2.6079620000000006,
          2.7235859999999974,
          0.44964899999999375,
          8.093674999999998,
          0.5909669999999991,
          0.642355000000002,
          5.24134,
          2.1732379999999996,
          3.835126,
          9.557412,
          2.4158749999999998,
          13.990934,
          8.809885999999999,
          10.916038999999998,
          2.2345770000000016,
          2.038657,
          1.9777010000000002,
          10.757464,
          10.483348999999999,
          0.474812,
          5.7664670000000005,
          2.130405999999997,
          6.134701000000001,
          1.0235730000000007,
          1.016838,
          3.2390679999999996,
          7.272752000000002,
          3.420886999999997,
          15.725121,
          21.286932999999998,
          1.44517,
          4.31936,
          2.244453,
          1.3079180000000008,
          0.500041,
          0.49000600000000016,
          0.8579299999999996,
          127.257333,
          2.1714279999999997,
          2.0632719999999978,
          0.8757079999999999,
          0.6347420000000001,
          1.4575549999999997,
          14.902026,
          1.3631090000000001,
          1.157172,
          2.361416,
          1.3415359999999996,
          2.228047,
          1.1061779999999999,
          2.0083800000000007,
          0.4471790000000002,
          6.9520360000000005,
          2.2784500000000003,
          1.774856999999999,
          4.33581,
          2.892586999999999,
          3.285634999999999,
          4.520052,
          8.254006999999994,
          0.6264200000000031,
          8.766126,
          4.8313310000000005,
          6.823632000000002,
          1.1621760000000023,
          2.971848999999999,
          5.050651,
          3.5770029999999995,
          6.063808000000001,
          5.1168830000000005,
          10.101846,
          10.148614,
          4.033723000000002,
          19.759398,
          13.860801,
          5.117777,
          2.011673,
          26.117781,
          20.619301,
          6.573837,
          6.4784489999999995,
          7.692897,
          8.443581,
          3.7939420000000004,
          4.997221,
          1.476452,
          3.2936239999999994,
          6.67364,
          1.6971749999999997,
          0.9895400000000016,
          0.9665280000000003,
          3.06067,
          1.9215479999999996,
          4.8786619999999985,
          3.1066949999999984,
          1.047070999999999,
          3.705021000000002,
          2.266735999999998,
          0.5062770000000008,
          5.902719000000001,
          2.703975,
          2.2437240000000003,
          4.320296,
          6.581748000000001,
          7.765515000000001,
          4.498317,
          5.090201,
          3.717030000000001,
          3.4802759999999964,
          11.107935999999999
         ],
         "y0": " ",
         "yaxis": "y"
        }
       ],
       "layout": {
        "boxmode": "group",
        "legend": {
         "tracegroupgap": 0
        },
        "margin": {
         "t": 60
        },
        "template": {
         "data": {
          "bar": [
           {
            "error_x": {
             "color": "#2a3f5f"
            },
            "error_y": {
             "color": "#2a3f5f"
            },
            "marker": {
             "line": {
              "color": "#E5ECF6",
              "width": 0.5
             },
             "pattern": {
              "fillmode": "overlay",
              "size": 10,
              "solidity": 0.2
             }
            },
            "type": "bar"
           }
          ],
          "barpolar": [
           {
            "marker": {
             "line": {
              "color": "#E5ECF6",
              "width": 0.5
             },
             "pattern": {
              "fillmode": "overlay",
              "size": 10,
              "solidity": 0.2
             }
            },
            "type": "barpolar"
           }
          ],
          "carpet": [
           {
            "aaxis": {
             "endlinecolor": "#2a3f5f",
             "gridcolor": "white",
             "linecolor": "white",
             "minorgridcolor": "white",
             "startlinecolor": "#2a3f5f"
            },
            "baxis": {
             "endlinecolor": "#2a3f5f",
             "gridcolor": "white",
             "linecolor": "white",
             "minorgridcolor": "white",
             "startlinecolor": "#2a3f5f"
            },
            "type": "carpet"
           }
          ],
          "choropleth": [
           {
            "colorbar": {
             "outlinewidth": 0,
             "ticks": ""
            },
            "type": "choropleth"
           }
          ],
          "contour": [
           {
            "colorbar": {
             "outlinewidth": 0,
             "ticks": ""
            },
            "colorscale": [
             [
              0,
              "#0d0887"
             ],
             [
              0.1111111111111111,
              "#46039f"
             ],
             [
              0.2222222222222222,
              "#7201a8"
             ],
             [
              0.3333333333333333,
              "#9c179e"
             ],
             [
              0.4444444444444444,
              "#bd3786"
             ],
             [
              0.5555555555555556,
              "#d8576b"
             ],
             [
              0.6666666666666666,
              "#ed7953"
             ],
             [
              0.7777777777777778,
              "#fb9f3a"
             ],
             [
              0.8888888888888888,
              "#fdca26"
             ],
             [
              1,
              "#f0f921"
             ]
            ],
            "type": "contour"
           }
          ],
          "contourcarpet": [
           {
            "colorbar": {
             "outlinewidth": 0,
             "ticks": ""
            },
            "type": "contourcarpet"
           }
          ],
          "heatmap": [
           {
            "colorbar": {
             "outlinewidth": 0,
             "ticks": ""
            },
            "colorscale": [
             [
              0,
              "#0d0887"
             ],
             [
              0.1111111111111111,
              "#46039f"
             ],
             [
              0.2222222222222222,
              "#7201a8"
             ],
             [
              0.3333333333333333,
              "#9c179e"
             ],
             [
              0.4444444444444444,
              "#bd3786"
             ],
             [
              0.5555555555555556,
              "#d8576b"
             ],
             [
              0.6666666666666666,
              "#ed7953"
             ],
             [
              0.7777777777777778,
              "#fb9f3a"
             ],
             [
              0.8888888888888888,
              "#fdca26"
             ],
             [
              1,
              "#f0f921"
             ]
            ],
            "type": "heatmap"
           }
          ],
          "heatmapgl": [
           {
            "colorbar": {
             "outlinewidth": 0,
             "ticks": ""
            },
            "colorscale": [
             [
              0,
              "#0d0887"
             ],
             [
              0.1111111111111111,
              "#46039f"
             ],
             [
              0.2222222222222222,
              "#7201a8"
             ],
             [
              0.3333333333333333,
              "#9c179e"
             ],
             [
              0.4444444444444444,
              "#bd3786"
             ],
             [
              0.5555555555555556,
              "#d8576b"
             ],
             [
              0.6666666666666666,
              "#ed7953"
             ],
             [
              0.7777777777777778,
              "#fb9f3a"
             ],
             [
              0.8888888888888888,
              "#fdca26"
             ],
             [
              1,
              "#f0f921"
             ]
            ],
            "type": "heatmapgl"
           }
          ],
          "histogram": [
           {
            "marker": {
             "pattern": {
              "fillmode": "overlay",
              "size": 10,
              "solidity": 0.2
             }
            },
            "type": "histogram"
           }
          ],
          "histogram2d": [
           {
            "colorbar": {
             "outlinewidth": 0,
             "ticks": ""
            },
            "colorscale": [
             [
              0,
              "#0d0887"
             ],
             [
              0.1111111111111111,
              "#46039f"
             ],
             [
              0.2222222222222222,
              "#7201a8"
             ],
             [
              0.3333333333333333,
              "#9c179e"
             ],
             [
              0.4444444444444444,
              "#bd3786"
             ],
             [
              0.5555555555555556,
              "#d8576b"
             ],
             [
              0.6666666666666666,
              "#ed7953"
             ],
             [
              0.7777777777777778,
              "#fb9f3a"
             ],
             [
              0.8888888888888888,
              "#fdca26"
             ],
             [
              1,
              "#f0f921"
             ]
            ],
            "type": "histogram2d"
           }
          ],
          "histogram2dcontour": [
           {
            "colorbar": {
             "outlinewidth": 0,
             "ticks": ""
            },
            "colorscale": [
             [
              0,
              "#0d0887"
             ],
             [
              0.1111111111111111,
              "#46039f"
             ],
             [
              0.2222222222222222,
              "#7201a8"
             ],
             [
              0.3333333333333333,
              "#9c179e"
             ],
             [
              0.4444444444444444,
              "#bd3786"
             ],
             [
              0.5555555555555556,
              "#d8576b"
             ],
             [
              0.6666666666666666,
              "#ed7953"
             ],
             [
              0.7777777777777778,
              "#fb9f3a"
             ],
             [
              0.8888888888888888,
              "#fdca26"
             ],
             [
              1,
              "#f0f921"
             ]
            ],
            "type": "histogram2dcontour"
           }
          ],
          "mesh3d": [
           {
            "colorbar": {
             "outlinewidth": 0,
             "ticks": ""
            },
            "type": "mesh3d"
           }
          ],
          "parcoords": [
           {
            "line": {
             "colorbar": {
              "outlinewidth": 0,
              "ticks": ""
             }
            },
            "type": "parcoords"
           }
          ],
          "pie": [
           {
            "automargin": true,
            "type": "pie"
           }
          ],
          "scatter": [
           {
            "fillpattern": {
             "fillmode": "overlay",
             "size": 10,
             "solidity": 0.2
            },
            "type": "scatter"
           }
          ],
          "scatter3d": [
           {
            "line": {
             "colorbar": {
              "outlinewidth": 0,
              "ticks": ""
             }
            },
            "marker": {
             "colorbar": {
              "outlinewidth": 0,
              "ticks": ""
             }
            },
            "type": "scatter3d"
           }
          ],
          "scattercarpet": [
           {
            "marker": {
             "colorbar": {
              "outlinewidth": 0,
              "ticks": ""
             }
            },
            "type": "scattercarpet"
           }
          ],
          "scattergeo": [
           {
            "marker": {
             "colorbar": {
              "outlinewidth": 0,
              "ticks": ""
             }
            },
            "type": "scattergeo"
           }
          ],
          "scattergl": [
           {
            "marker": {
             "colorbar": {
              "outlinewidth": 0,
              "ticks": ""
             }
            },
            "type": "scattergl"
           }
          ],
          "scattermapbox": [
           {
            "marker": {
             "colorbar": {
              "outlinewidth": 0,
              "ticks": ""
             }
            },
            "type": "scattermapbox"
           }
          ],
          "scatterpolar": [
           {
            "marker": {
             "colorbar": {
              "outlinewidth": 0,
              "ticks": ""
             }
            },
            "type": "scatterpolar"
           }
          ],
          "scatterpolargl": [
           {
            "marker": {
             "colorbar": {
              "outlinewidth": 0,
              "ticks": ""
             }
            },
            "type": "scatterpolargl"
           }
          ],
          "scatterternary": [
           {
            "marker": {
             "colorbar": {
              "outlinewidth": 0,
              "ticks": ""
             }
            },
            "type": "scatterternary"
           }
          ],
          "surface": [
           {
            "colorbar": {
             "outlinewidth": 0,
             "ticks": ""
            },
            "colorscale": [
             [
              0,
              "#0d0887"
             ],
             [
              0.1111111111111111,
              "#46039f"
             ],
             [
              0.2222222222222222,
              "#7201a8"
             ],
             [
              0.3333333333333333,
              "#9c179e"
             ],
             [
              0.4444444444444444,
              "#bd3786"
             ],
             [
              0.5555555555555556,
              "#d8576b"
             ],
             [
              0.6666666666666666,
              "#ed7953"
             ],
             [
              0.7777777777777778,
              "#fb9f3a"
             ],
             [
              0.8888888888888888,
              "#fdca26"
             ],
             [
              1,
              "#f0f921"
             ]
            ],
            "type": "surface"
           }
          ],
          "table": [
           {
            "cells": {
             "fill": {
              "color": "#EBF0F8"
             },
             "line": {
              "color": "white"
             }
            },
            "header": {
             "fill": {
              "color": "#C8D4E3"
             },
             "line": {
              "color": "white"
             }
            },
            "type": "table"
           }
          ]
         },
         "layout": {
          "annotationdefaults": {
           "arrowcolor": "#2a3f5f",
           "arrowhead": 0,
           "arrowwidth": 1
          },
          "autotypenumbers": "strict",
          "coloraxis": {
           "colorbar": {
            "outlinewidth": 0,
            "ticks": ""
           }
          },
          "colorscale": {
           "diverging": [
            [
             0,
             "#8e0152"
            ],
            [
             0.1,
             "#c51b7d"
            ],
            [
             0.2,
             "#de77ae"
            ],
            [
             0.3,
             "#f1b6da"
            ],
            [
             0.4,
             "#fde0ef"
            ],
            [
             0.5,
             "#f7f7f7"
            ],
            [
             0.6,
             "#e6f5d0"
            ],
            [
             0.7,
             "#b8e186"
            ],
            [
             0.8,
             "#7fbc41"
            ],
            [
             0.9,
             "#4d9221"
            ],
            [
             1,
             "#276419"
            ]
           ],
           "sequential": [
            [
             0,
             "#0d0887"
            ],
            [
             0.1111111111111111,
             "#46039f"
            ],
            [
             0.2222222222222222,
             "#7201a8"
            ],
            [
             0.3333333333333333,
             "#9c179e"
            ],
            [
             0.4444444444444444,
             "#bd3786"
            ],
            [
             0.5555555555555556,
             "#d8576b"
            ],
            [
             0.6666666666666666,
             "#ed7953"
            ],
            [
             0.7777777777777778,
             "#fb9f3a"
            ],
            [
             0.8888888888888888,
             "#fdca26"
            ],
            [
             1,
             "#f0f921"
            ]
           ],
           "sequentialminus": [
            [
             0,
             "#0d0887"
            ],
            [
             0.1111111111111111,
             "#46039f"
            ],
            [
             0.2222222222222222,
             "#7201a8"
            ],
            [
             0.3333333333333333,
             "#9c179e"
            ],
            [
             0.4444444444444444,
             "#bd3786"
            ],
            [
             0.5555555555555556,
             "#d8576b"
            ],
            [
             0.6666666666666666,
             "#ed7953"
            ],
            [
             0.7777777777777778,
             "#fb9f3a"
            ],
            [
             0.8888888888888888,
             "#fdca26"
            ],
            [
             1,
             "#f0f921"
            ]
           ]
          },
          "colorway": [
           "#636efa",
           "#EF553B",
           "#00cc96",
           "#ab63fa",
           "#FFA15A",
           "#19d3f3",
           "#FF6692",
           "#B6E880",
           "#FF97FF",
           "#FECB52"
          ],
          "font": {
           "color": "#2a3f5f"
          },
          "geo": {
           "bgcolor": "white",
           "lakecolor": "white",
           "landcolor": "#E5ECF6",
           "showlakes": true,
           "showland": true,
           "subunitcolor": "white"
          },
          "hoverlabel": {
           "align": "left"
          },
          "hovermode": "closest",
          "mapbox": {
           "style": "light"
          },
          "paper_bgcolor": "white",
          "plot_bgcolor": "#E5ECF6",
          "polar": {
           "angularaxis": {
            "gridcolor": "white",
            "linecolor": "white",
            "ticks": ""
           },
           "bgcolor": "#E5ECF6",
           "radialaxis": {
            "gridcolor": "white",
            "linecolor": "white",
            "ticks": ""
           }
          },
          "scene": {
           "xaxis": {
            "backgroundcolor": "#E5ECF6",
            "gridcolor": "white",
            "gridwidth": 2,
            "linecolor": "white",
            "showbackground": true,
            "ticks": "",
            "zerolinecolor": "white"
           },
           "yaxis": {
            "backgroundcolor": "#E5ECF6",
            "gridcolor": "white",
            "gridwidth": 2,
            "linecolor": "white",
            "showbackground": true,
            "ticks": "",
            "zerolinecolor": "white"
           },
           "zaxis": {
            "backgroundcolor": "#E5ECF6",
            "gridcolor": "white",
            "gridwidth": 2,
            "linecolor": "white",
            "showbackground": true,
            "ticks": "",
            "zerolinecolor": "white"
           }
          },
          "shapedefaults": {
           "line": {
            "color": "#2a3f5f"
           }
          },
          "ternary": {
           "aaxis": {
            "gridcolor": "white",
            "linecolor": "white",
            "ticks": ""
           },
           "baxis": {
            "gridcolor": "white",
            "linecolor": "white",
            "ticks": ""
           },
           "bgcolor": "#E5ECF6",
           "caxis": {
            "gridcolor": "white",
            "linecolor": "white",
            "ticks": ""
           }
          },
          "title": {
           "x": 0.05
          },
          "xaxis": {
           "automargin": true,
           "gridcolor": "white",
           "linecolor": "white",
           "ticks": "",
           "title": {
            "standoff": 15
           },
           "zerolinecolor": "white",
           "zerolinewidth": 2
          },
          "yaxis": {
           "automargin": true,
           "gridcolor": "white",
           "linecolor": "white",
           "ticks": "",
           "title": {
            "standoff": 15
           },
           "zerolinecolor": "white",
           "zerolinewidth": 2
          }
         }
        },
        "xaxis": {
         "anchor": "y",
         "domain": [
          0,
          1
         ],
         "title": {
          "text": "Label"
         }
        },
        "yaxis": {
         "anchor": "x",
         "domain": [
          0,
          1
         ],
         "title": {
          "text": "Duration"
         }
        }
       }
      },
      "text/html": [
       "<div>                            <div id=\"f54ffc8d-2611-45fa-bfe6-54ee7d2033ec\" class=\"plotly-graph-div\" style=\"height:525px; width:100%;\"></div>            <script type=\"text/javascript\">                require([\"plotly\"], function(Plotly) {                    window.PLOTLYENV=window.PLOTLYENV || {};                                    if (document.getElementById(\"f54ffc8d-2611-45fa-bfe6-54ee7d2033ec\")) {                    Plotly.newPlot(                        \"f54ffc8d-2611-45fa-bfe6-54ee7d2033ec\",                        [{\"alignmentgroup\":\"True\",\"hovertemplate\":\"Label=%{x}<br>Duration=%{y}<extra></extra>\",\"legendgroup\":\"\",\"marker\":{\"color\":\"#636efa\"},\"name\":\"\",\"notched\":false,\"offsetgroup\":\"\",\"orientation\":\"v\",\"showlegend\":false,\"x\":[\"chewing_gum\",\"talking\",\"lip_smacks\",\"mouth_sounds_other\",\"lip_smacks\",\"mouth_sounds_other\",\"lip_smacks\",\"mouth_sounds_other\",\"water_drops\",\"basketball_dribbling\",\"basketball_dribbling\",\"basketball_dribbling\",\"basketball_dribbling\",\"chewing_gum\",\"human_breathing\",\"sliding_ceramic\",\"slurping\",\"exhaling\",\"tapping\",\"sliding_ceramic\",\"slurping\",\"exhaling\",\"slurping\",\"exhaling\",\"tapping\",\"water_drops\",\"water_drops\",\"recording_artifact\",\"water_drops\",\"water_drops\",\"recording_artifact\",\"water_drops\",\"water_drops\",\"water_drops\",\"basketball_dribbling\",\"basketball_dribbling\",\"basketball_dribbling\",\"basketball_dribbling\",\"knife_cutting\",\"knife_cutting\",\"squishing\",\"chewing_gum\",\"exhaling\",\"chewing_gum\",\"exhaling\",\"exhaling\",\"chewing_gum\",\"exhaling\",\"flipping_newspaper_pages\",\"flipping_newspaper_pages\",\"flipping_newspaper_pages\",\"flipping_newspaper_pages\",\"flipping_newspaper_pages\",\"flipping_newspaper_pages\",\"flipping_newspaper_pages\",\"flipping_newspaper_pages\",\"recording_artifact\",\"human_breathing\",\"human_breathing\",\"human_breathing\",\"human_breathing\",\"water_drops\",\"human_breathing\",\"whimpering\",\"human_breathing\",\"plastic_crumpling\",\"plastic_crumpling\",\"lip_smacks\",\"lip_smacks\",\"tearing_paper\",\"slurping\",\"slurping\",\"slurping\",\"tapping\",\"slurping\",\"slurping\",\"slurping\",\"slurping\",\"slurping\",\"tapping\",\"tapping\",\"slurping\",\"chewing_gum\",\"chewing_gum\",\"chewing_gum\",\"knife_cutting\",\"knife_cutting\",\"water_drops\",\"lip_smacks\",\"lip_smacks\",\"lip_smacks\",\"plastic_crumpling\",\"plastic_crumpling\",\"typing\",\"basketball_dribbling\",\"basketball_dribbling\",\"basketball_dribbling\",\"basketball_dribbing\",\"typing\",\"typing\",\"typing\",\"typing\",\"typing\",\"typing\",\"human_breathing\",\"human_breathing\",\"footsteps\",\"flipping_newspaper_pages\",\"flipping_newspaper_pages\",\"exhaling\",\"flipping_newspaper_pages\",\"flipping_newspaper_pages\",\"flipping_newspaper_pages\",\"water_drops\",\"talking\",\"recording_artifact\",\"slurping\",\"footsteps\",\"lip_smacks\",\"recording_artifact\",\"slurping\",\"swallowing\",\"slurping\",\"swallowing\",\"slurping\",\"swallowing\",\"slurping\",\"swallowing\",\"basketball_dribbling\",\"basketball_dribbling\",\"basketball_dribbling\",\"basketball_dribbling\",\"basketball_dribbling\",\"basketball_dribbling\",\"basketball_dribbling\",\"basketball_dribbling\",\"basketball_dribbling\",\"typing\",\"typing\",\"typing\",\"typing\",\"typing\",\"knife_cutting\",\"knife_cutting\",\"plastic_crumpling\",\"plastic_crumpling\",\"typing\",\"typing\",\"typing\",\"typing\",\"lip_smacks\",\"human_breathing\",\"slurping\",\"flipping_newspaper_pages\",\"flipping_newspaper_pages\",\"basketball_dribbling\",\"basketball_dribbling\",\"chewing_gum\",\"typing\",\"birds_chirping\",\"flipping_newspaper_pages\",\"flipping_newspaper_pages\",\"flipping_newspaper_pages\",\"lip_smacks\",\"slurping\",\"slurping\",\"slurping\",\"lip_smacks\",\"slurping\",\"lip_smacks\",\"lip_smacks\",\"talking\",\"exhaling\",\"slurping\",\"swallowing\",\"lip_smacks\",\"talking\",\"slurping\",\"plastic_crumpling\",\"knife_cutting\",\"knife_cutting\",\"knife_cutting\",\"knife_cutting\",\"knife_cutting\",\"knife_cutting\",\"knife_cutting\"],\"x0\":\" \",\"xaxis\":\"x\",\"y\":[10.305492,2.8042160000000003,1.210829,1.9332560000000005,3.4289869999999993,5.606444,1.4143300000000014,2.065532000000001,101.318,2.4907399999999997,2.377657,2.734305,0.939464000000001,9.605498,12.828765,1.013598,1.244142,1.6654810000000007,2.8857739999999996,0.969875,2.2617150000000006,1.4190380000000005,4.006695000000001,2.0510459999999995,0.16893300000000266,0.5499700000000001,7.035034999999999,7.241274000000001,0.595800999999998,7.401682000000001,1.042652000000004,10.289026,11.159811000000005,17.484469000000004,13.728928,4.771711,4.818607999999998,14.309270999999999,4.0601840000000005,4.112506,4.949657,4.893615,1.436813,5.197881,0.8113770000000002,0.8367319999999996,1.1409979999999997,0.8029249999999983,1.651316,2.191881,1.7772010000000007,1.3032810000000001,1.399545999999999,1.8734660000000005,1.414355999999998,1.8142260000000014,3.0878869999999985,15.503853999999999,10.459056,19.661949999999997,1.9077529999999996,77.66187799999999,11.02033,0.21406400000000048,17.489818999999997,7.5040000000000004,5.927999999999999,0.9103770000000001,2.332915,1.869253,1.6749409999999996,1.5801929999999995,6.3721640000000015,1.5288059999999994,4.7534279999999995,0.5652720000000002,2.6079620000000006,2.7235859999999974,0.44964899999999375,8.093674999999998,0.5909669999999991,0.642355000000002,5.24134,2.1732379999999996,3.835126,9.557412,2.4158749999999998,13.990934,8.809885999999999,10.916038999999998,2.2345770000000016,2.038657,1.9777010000000002,10.757464,10.483348999999999,0.474812,5.7664670000000005,2.130405999999997,6.134701000000001,1.0235730000000007,1.016838,3.2390679999999996,7.272752000000002,3.420886999999997,15.725121,21.286932999999998,1.44517,4.31936,2.244453,1.3079180000000008,0.500041,0.49000600000000016,0.8579299999999996,127.257333,2.1714279999999997,2.0632719999999978,0.8757079999999999,0.6347420000000001,1.4575549999999997,14.902026,1.3631090000000001,1.157172,2.361416,1.3415359999999996,2.228047,1.1061779999999999,2.0083800000000007,0.4471790000000002,6.9520360000000005,2.2784500000000003,1.774856999999999,4.33581,2.892586999999999,3.285634999999999,4.520052,8.254006999999994,0.6264200000000031,8.766126,4.8313310000000005,6.823632000000002,1.1621760000000023,2.971848999999999,5.050651,3.5770029999999995,6.063808000000001,5.1168830000000005,10.101846,10.148614,4.033723000000002,19.759398,13.860801,5.117777,2.011673,26.117781,20.619301,6.573837,6.4784489999999995,7.692897,8.443581,3.7939420000000004,4.997221,1.476452,3.2936239999999994,6.67364,1.6971749999999997,0.9895400000000016,0.9665280000000003,3.06067,1.9215479999999996,4.8786619999999985,3.1066949999999984,1.047070999999999,3.705021000000002,2.266735999999998,0.5062770000000008,5.902719000000001,2.703975,2.2437240000000003,4.320296,6.581748000000001,7.765515000000001,4.498317,5.090201,3.717030000000001,3.4802759999999964,11.107935999999999],\"y0\":\" \",\"yaxis\":\"y\",\"type\":\"box\"}],                        {\"template\":{\"data\":{\"histogram2dcontour\":[{\"type\":\"histogram2dcontour\",\"colorbar\":{\"outlinewidth\":0,\"ticks\":\"\"},\"colorscale\":[[0.0,\"#0d0887\"],[0.1111111111111111,\"#46039f\"],[0.2222222222222222,\"#7201a8\"],[0.3333333333333333,\"#9c179e\"],[0.4444444444444444,\"#bd3786\"],[0.5555555555555556,\"#d8576b\"],[0.6666666666666666,\"#ed7953\"],[0.7777777777777778,\"#fb9f3a\"],[0.8888888888888888,\"#fdca26\"],[1.0,\"#f0f921\"]]}],\"choropleth\":[{\"type\":\"choropleth\",\"colorbar\":{\"outlinewidth\":0,\"ticks\":\"\"}}],\"histogram2d\":[{\"type\":\"histogram2d\",\"colorbar\":{\"outlinewidth\":0,\"ticks\":\"\"},\"colorscale\":[[0.0,\"#0d0887\"],[0.1111111111111111,\"#46039f\"],[0.2222222222222222,\"#7201a8\"],[0.3333333333333333,\"#9c179e\"],[0.4444444444444444,\"#bd3786\"],[0.5555555555555556,\"#d8576b\"],[0.6666666666666666,\"#ed7953\"],[0.7777777777777778,\"#fb9f3a\"],[0.8888888888888888,\"#fdca26\"],[1.0,\"#f0f921\"]]}],\"heatmap\":[{\"type\":\"heatmap\",\"colorbar\":{\"outlinewidth\":0,\"ticks\":\"\"},\"colorscale\":[[0.0,\"#0d0887\"],[0.1111111111111111,\"#46039f\"],[0.2222222222222222,\"#7201a8\"],[0.3333333333333333,\"#9c179e\"],[0.4444444444444444,\"#bd3786\"],[0.5555555555555556,\"#d8576b\"],[0.6666666666666666,\"#ed7953\"],[0.7777777777777778,\"#fb9f3a\"],[0.8888888888888888,\"#fdca26\"],[1.0,\"#f0f921\"]]}],\"heatmapgl\":[{\"type\":\"heatmapgl\",\"colorbar\":{\"outlinewidth\":0,\"ticks\":\"\"},\"colorscale\":[[0.0,\"#0d0887\"],[0.1111111111111111,\"#46039f\"],[0.2222222222222222,\"#7201a8\"],[0.3333333333333333,\"#9c179e\"],[0.4444444444444444,\"#bd3786\"],[0.5555555555555556,\"#d8576b\"],[0.6666666666666666,\"#ed7953\"],[0.7777777777777778,\"#fb9f3a\"],[0.8888888888888888,\"#fdca26\"],[1.0,\"#f0f921\"]]}],\"contourcarpet\":[{\"type\":\"contourcarpet\",\"colorbar\":{\"outlinewidth\":0,\"ticks\":\"\"}}],\"contour\":[{\"type\":\"contour\",\"colorbar\":{\"outlinewidth\":0,\"ticks\":\"\"},\"colorscale\":[[0.0,\"#0d0887\"],[0.1111111111111111,\"#46039f\"],[0.2222222222222222,\"#7201a8\"],[0.3333333333333333,\"#9c179e\"],[0.4444444444444444,\"#bd3786\"],[0.5555555555555556,\"#d8576b\"],[0.6666666666666666,\"#ed7953\"],[0.7777777777777778,\"#fb9f3a\"],[0.8888888888888888,\"#fdca26\"],[1.0,\"#f0f921\"]]}],\"surface\":[{\"type\":\"surface\",\"colorbar\":{\"outlinewidth\":0,\"ticks\":\"\"},\"colorscale\":[[0.0,\"#0d0887\"],[0.1111111111111111,\"#46039f\"],[0.2222222222222222,\"#7201a8\"],[0.3333333333333333,\"#9c179e\"],[0.4444444444444444,\"#bd3786\"],[0.5555555555555556,\"#d8576b\"],[0.6666666666666666,\"#ed7953\"],[0.7777777777777778,\"#fb9f3a\"],[0.8888888888888888,\"#fdca26\"],[1.0,\"#f0f921\"]]}],\"mesh3d\":[{\"type\":\"mesh3d\",\"colorbar\":{\"outlinewidth\":0,\"ticks\":\"\"}}],\"scatter\":[{\"fillpattern\":{\"fillmode\":\"overlay\",\"size\":10,\"solidity\":0.2},\"type\":\"scatter\"}],\"parcoords\":[{\"type\":\"parcoords\",\"line\":{\"colorbar\":{\"outlinewidth\":0,\"ticks\":\"\"}}}],\"scatterpolargl\":[{\"type\":\"scatterpolargl\",\"marker\":{\"colorbar\":{\"outlinewidth\":0,\"ticks\":\"\"}}}],\"bar\":[{\"error_x\":{\"color\":\"#2a3f5f\"},\"error_y\":{\"color\":\"#2a3f5f\"},\"marker\":{\"line\":{\"color\":\"#E5ECF6\",\"width\":0.5},\"pattern\":{\"fillmode\":\"overlay\",\"size\":10,\"solidity\":0.2}},\"type\":\"bar\"}],\"scattergeo\":[{\"type\":\"scattergeo\",\"marker\":{\"colorbar\":{\"outlinewidth\":0,\"ticks\":\"\"}}}],\"scatterpolar\":[{\"type\":\"scatterpolar\",\"marker\":{\"colorbar\":{\"outlinewidth\":0,\"ticks\":\"\"}}}],\"histogram\":[{\"marker\":{\"pattern\":{\"fillmode\":\"overlay\",\"size\":10,\"solidity\":0.2}},\"type\":\"histogram\"}],\"scattergl\":[{\"type\":\"scattergl\",\"marker\":{\"colorbar\":{\"outlinewidth\":0,\"ticks\":\"\"}}}],\"scatter3d\":[{\"type\":\"scatter3d\",\"line\":{\"colorbar\":{\"outlinewidth\":0,\"ticks\":\"\"}},\"marker\":{\"colorbar\":{\"outlinewidth\":0,\"ticks\":\"\"}}}],\"scattermapbox\":[{\"type\":\"scattermapbox\",\"marker\":{\"colorbar\":{\"outlinewidth\":0,\"ticks\":\"\"}}}],\"scatterternary\":[{\"type\":\"scatterternary\",\"marker\":{\"colorbar\":{\"outlinewidth\":0,\"ticks\":\"\"}}}],\"scattercarpet\":[{\"type\":\"scattercarpet\",\"marker\":{\"colorbar\":{\"outlinewidth\":0,\"ticks\":\"\"}}}],\"carpet\":[{\"aaxis\":{\"endlinecolor\":\"#2a3f5f\",\"gridcolor\":\"white\",\"linecolor\":\"white\",\"minorgridcolor\":\"white\",\"startlinecolor\":\"#2a3f5f\"},\"baxis\":{\"endlinecolor\":\"#2a3f5f\",\"gridcolor\":\"white\",\"linecolor\":\"white\",\"minorgridcolor\":\"white\",\"startlinecolor\":\"#2a3f5f\"},\"type\":\"carpet\"}],\"table\":[{\"cells\":{\"fill\":{\"color\":\"#EBF0F8\"},\"line\":{\"color\":\"white\"}},\"header\":{\"fill\":{\"color\":\"#C8D4E3\"},\"line\":{\"color\":\"white\"}},\"type\":\"table\"}],\"barpolar\":[{\"marker\":{\"line\":{\"color\":\"#E5ECF6\",\"width\":0.5},\"pattern\":{\"fillmode\":\"overlay\",\"size\":10,\"solidity\":0.2}},\"type\":\"barpolar\"}],\"pie\":[{\"automargin\":true,\"type\":\"pie\"}]},\"layout\":{\"autotypenumbers\":\"strict\",\"colorway\":[\"#636efa\",\"#EF553B\",\"#00cc96\",\"#ab63fa\",\"#FFA15A\",\"#19d3f3\",\"#FF6692\",\"#B6E880\",\"#FF97FF\",\"#FECB52\"],\"font\":{\"color\":\"#2a3f5f\"},\"hovermode\":\"closest\",\"hoverlabel\":{\"align\":\"left\"},\"paper_bgcolor\":\"white\",\"plot_bgcolor\":\"#E5ECF6\",\"polar\":{\"bgcolor\":\"#E5ECF6\",\"angularaxis\":{\"gridcolor\":\"white\",\"linecolor\":\"white\",\"ticks\":\"\"},\"radialaxis\":{\"gridcolor\":\"white\",\"linecolor\":\"white\",\"ticks\":\"\"}},\"ternary\":{\"bgcolor\":\"#E5ECF6\",\"aaxis\":{\"gridcolor\":\"white\",\"linecolor\":\"white\",\"ticks\":\"\"},\"baxis\":{\"gridcolor\":\"white\",\"linecolor\":\"white\",\"ticks\":\"\"},\"caxis\":{\"gridcolor\":\"white\",\"linecolor\":\"white\",\"ticks\":\"\"}},\"coloraxis\":{\"colorbar\":{\"outlinewidth\":0,\"ticks\":\"\"}},\"colorscale\":{\"sequential\":[[0.0,\"#0d0887\"],[0.1111111111111111,\"#46039f\"],[0.2222222222222222,\"#7201a8\"],[0.3333333333333333,\"#9c179e\"],[0.4444444444444444,\"#bd3786\"],[0.5555555555555556,\"#d8576b\"],[0.6666666666666666,\"#ed7953\"],[0.7777777777777778,\"#fb9f3a\"],[0.8888888888888888,\"#fdca26\"],[1.0,\"#f0f921\"]],\"sequentialminus\":[[0.0,\"#0d0887\"],[0.1111111111111111,\"#46039f\"],[0.2222222222222222,\"#7201a8\"],[0.3333333333333333,\"#9c179e\"],[0.4444444444444444,\"#bd3786\"],[0.5555555555555556,\"#d8576b\"],[0.6666666666666666,\"#ed7953\"],[0.7777777777777778,\"#fb9f3a\"],[0.8888888888888888,\"#fdca26\"],[1.0,\"#f0f921\"]],\"diverging\":[[0,\"#8e0152\"],[0.1,\"#c51b7d\"],[0.2,\"#de77ae\"],[0.3,\"#f1b6da\"],[0.4,\"#fde0ef\"],[0.5,\"#f7f7f7\"],[0.6,\"#e6f5d0\"],[0.7,\"#b8e186\"],[0.8,\"#7fbc41\"],[0.9,\"#4d9221\"],[1,\"#276419\"]]},\"xaxis\":{\"gridcolor\":\"white\",\"linecolor\":\"white\",\"ticks\":\"\",\"title\":{\"standoff\":15},\"zerolinecolor\":\"white\",\"automargin\":true,\"zerolinewidth\":2},\"yaxis\":{\"gridcolor\":\"white\",\"linecolor\":\"white\",\"ticks\":\"\",\"title\":{\"standoff\":15},\"zerolinecolor\":\"white\",\"automargin\":true,\"zerolinewidth\":2},\"scene\":{\"xaxis\":{\"backgroundcolor\":\"#E5ECF6\",\"gridcolor\":\"white\",\"linecolor\":\"white\",\"showbackground\":true,\"ticks\":\"\",\"zerolinecolor\":\"white\",\"gridwidth\":2},\"yaxis\":{\"backgroundcolor\":\"#E5ECF6\",\"gridcolor\":\"white\",\"linecolor\":\"white\",\"showbackground\":true,\"ticks\":\"\",\"zerolinecolor\":\"white\",\"gridwidth\":2},\"zaxis\":{\"backgroundcolor\":\"#E5ECF6\",\"gridcolor\":\"white\",\"linecolor\":\"white\",\"showbackground\":true,\"ticks\":\"\",\"zerolinecolor\":\"white\",\"gridwidth\":2}},\"shapedefaults\":{\"line\":{\"color\":\"#2a3f5f\"}},\"annotationdefaults\":{\"arrowcolor\":\"#2a3f5f\",\"arrowhead\":0,\"arrowwidth\":1},\"geo\":{\"bgcolor\":\"white\",\"landcolor\":\"#E5ECF6\",\"subunitcolor\":\"white\",\"showland\":true,\"showlakes\":true,\"lakecolor\":\"white\"},\"title\":{\"x\":0.05},\"mapbox\":{\"style\":\"light\"}}},\"xaxis\":{\"anchor\":\"y\",\"domain\":[0.0,1.0],\"title\":{\"text\":\"Label\"}},\"yaxis\":{\"anchor\":\"x\",\"domain\":[0.0,1.0],\"title\":{\"text\":\"Duration\"}},\"legend\":{\"tracegroupgap\":0},\"margin\":{\"t\":60},\"boxmode\":\"group\"},                        {\"responsive\": true}                    ).then(function(){\n",
       "                            \n",
       "var gd = document.getElementById('f54ffc8d-2611-45fa-bfe6-54ee7d2033ec');\n",
       "var x = new MutationObserver(function (mutations, observer) {{\n",
       "        var display = window.getComputedStyle(gd).display;\n",
       "        if (!display || display === 'none') {{\n",
       "            console.log([gd, 'removed!']);\n",
       "            Plotly.purge(gd);\n",
       "            observer.disconnect();\n",
       "        }}\n",
       "}});\n",
       "\n",
       "// Listen for the removal of the full notebook cells\n",
       "var notebookContainer = gd.closest('#notebook-container');\n",
       "if (notebookContainer) {{\n",
       "    x.observe(notebookContainer, {childList: true});\n",
       "}}\n",
       "\n",
       "// Listen for the clearing of the current output cell\n",
       "var outputEl = gd.closest('.output');\n",
       "if (outputEl) {{\n",
       "    x.observe(outputEl, {childList: true});\n",
       "}}\n",
       "\n",
       "                        })                };                });            </script>        </div>"
      ]
     },
     "metadata": {},
     "output_type": "display_data"
    }
   ],
   "source": [
    "import plotly.express as px\n",
    "px.box(label_timing_df, x=\"Label\", y=\"Duration\")"
   ]
  },
  {
   "cell_type": "code",
   "execution_count": 43,
   "id": "a6616723",
   "metadata": {},
   "outputs": [
    {
     "data": {
      "application/vnd.plotly.v1+json": {
       "config": {
        "plotlyServerURL": "https://plot.ly"
       },
       "data": [
        {
         "name": "chewing_gum",
         "nbinsx": 10,
         "type": "histogram",
         "x": [
          10.305492,
          9.605498,
          4.893615,
          5.197881,
          1.1409979999999997,
          5.24134,
          2.1732379999999996,
          3.835126,
          7.692897
         ],
         "xaxis": "x",
         "yaxis": "y"
        },
        {
         "name": "talking",
         "nbinsx": 10,
         "type": "histogram",
         "x": [
          2.8042160000000003,
          2.1714279999999997,
          1.047070999999999,
          2.703975
         ],
         "xaxis": "x2",
         "yaxis": "y2"
        },
        {
         "name": "lip_smacks",
         "nbinsx": 10,
         "type": "histogram",
         "x": [
          1.210829,
          3.4289869999999993,
          1.4143300000000014,
          0.9103770000000001,
          2.332915,
          8.809885999999999,
          10.916038999999998,
          2.2345770000000016,
          1.4575549999999997,
          13.860801,
          6.67364,
          3.06067,
          4.8786619999999985,
          3.1066949999999984,
          5.902719000000001
         ],
         "xaxis": "x3",
         "yaxis": "y3"
        },
        {
         "name": "mouth_sounds_other",
         "nbinsx": 10,
         "type": "histogram",
         "x": [
          1.9332560000000005,
          5.606444,
          2.065532000000001
         ],
         "xaxis": "x4",
         "yaxis": "y4"
        },
        {
         "name": "water_drops",
         "nbinsx": 10,
         "type": "histogram",
         "x": [
          101.318,
          0.5499700000000001,
          7.035034999999999,
          0.595800999999998,
          7.401682000000001,
          10.289026,
          11.159811000000005,
          17.484469000000004,
          77.66187799999999,
          13.990934,
          127.257333
         ],
         "xaxis": "x5",
         "yaxis": "y5"
        },
        {
         "name": "basketball_dribbling",
         "nbinsx": 10,
         "type": "histogram",
         "x": [
          2.4907399999999997,
          2.377657,
          2.734305,
          0.939464000000001,
          13.728928,
          4.771711,
          4.818607999999998,
          14.309270999999999,
          10.483348999999999,
          0.474812,
          5.7664670000000005,
          6.9520360000000005,
          2.2784500000000003,
          1.774856999999999,
          4.33581,
          2.892586999999999,
          3.285634999999999,
          4.520052,
          8.254006999999994,
          0.6264200000000031,
          6.573837,
          6.4784489999999995
         ],
         "xaxis": "x6",
         "yaxis": "y6"
        },
        {
         "name": "human_breathing",
         "nbinsx": 10,
         "type": "histogram",
         "x": [
          12.828765,
          15.503853999999999,
          10.459056,
          19.661949999999997,
          1.9077529999999996,
          11.02033,
          17.489818999999997,
          15.725121,
          21.286932999999998,
          5.117777
         ],
         "xaxis": "x7",
         "yaxis": "y7"
        },
        {
         "name": "sliding_ceramic",
         "nbinsx": 10,
         "type": "histogram",
         "x": [
          1.013598,
          0.969875
         ],
         "xaxis": "x8",
         "yaxis": "y8"
        },
        {
         "name": "slurping",
         "nbinsx": 10,
         "type": "histogram",
         "x": [
          1.244142,
          2.2617150000000006,
          4.006695000000001,
          1.6749409999999996,
          1.5801929999999995,
          6.3721640000000015,
          4.7534279999999995,
          0.5652720000000002,
          2.6079620000000006,
          2.7235859999999974,
          0.44964899999999375,
          0.642355000000002,
          0.8757079999999999,
          1.3631090000000001,
          2.361416,
          2.228047,
          2.0083800000000007,
          2.011673,
          1.6971749999999997,
          0.9895400000000016,
          0.9665280000000003,
          1.9215479999999996,
          2.266735999999998,
          2.2437240000000003
         ],
         "xaxis": "x9",
         "yaxis": "y9"
        },
        {
         "name": "exhaling",
         "nbinsx": 10,
         "type": "histogram",
         "x": [
          1.6654810000000007,
          1.4190380000000005,
          2.0510459999999995,
          1.436813,
          0.8113770000000002,
          0.8367319999999996,
          0.8029249999999983,
          1.3079180000000008,
          3.705021000000002
         ],
         "xaxis": "x10",
         "yaxis": "y10"
        },
        {
         "name": "tapping",
         "nbinsx": 10,
         "type": "histogram",
         "x": [
          2.8857739999999996,
          0.16893300000000266,
          1.5288059999999994,
          8.093674999999998,
          0.5909669999999991
         ],
         "xaxis": "x11",
         "yaxis": "y11"
        },
        {
         "name": "recording_artifact",
         "nbinsx": 10,
         "type": "histogram",
         "x": [
          7.241274000000001,
          1.042652000000004,
          3.0878869999999985,
          2.0632719999999978,
          14.902026
         ],
         "xaxis": "x12",
         "yaxis": "y12"
        },
        {
         "name": "knife_cutting",
         "nbinsx": 10,
         "type": "histogram",
         "x": [
          4.0601840000000005,
          4.112506,
          9.557412,
          2.4158749999999998,
          5.050651,
          3.5770029999999995,
          6.581748000000001,
          7.765515000000001,
          4.498317,
          5.090201,
          3.717030000000001,
          3.4802759999999964,
          11.107935999999999
         ],
         "xaxis": "x13",
         "yaxis": "y13"
        },
        {
         "name": "squishing",
         "nbinsx": 10,
         "type": "histogram",
         "x": [
          4.949657
         ],
         "xaxis": "x14",
         "yaxis": "y14"
        },
        {
         "name": "flipping_newspaper_pages",
         "nbinsx": 10,
         "type": "histogram",
         "x": [
          1.651316,
          2.191881,
          1.7772010000000007,
          1.3032810000000001,
          1.399545999999999,
          1.8734660000000005,
          1.414355999999998,
          1.8142260000000014,
          4.31936,
          2.244453,
          0.500041,
          0.49000600000000016,
          0.8579299999999996,
          26.117781,
          20.619301,
          4.997221,
          1.476452,
          3.2936239999999994
         ],
         "xaxis": "x15",
         "yaxis": "y15"
        },
        {
         "name": "whimpering",
         "nbinsx": 10,
         "type": "histogram",
         "x": [
          0.21406400000000048
         ],
         "xaxis": "x16",
         "yaxis": "y16"
        },
        {
         "name": "plastic_crumpling",
         "nbinsx": 10,
         "type": "histogram",
         "x": [
          7.5040000000000004,
          5.927999999999999,
          2.038657,
          1.9777010000000002,
          6.063808000000001,
          5.1168830000000005,
          4.320296
         ],
         "xaxis": "x17",
         "yaxis": "y17"
        },
        {
         "name": "tearing_paper",
         "nbinsx": 10,
         "type": "histogram",
         "x": [
          1.869253
         ],
         "xaxis": "x18",
         "yaxis": "y18"
        },
        {
         "name": "typing",
         "nbinsx": 10,
         "type": "histogram",
         "x": [
          10.757464,
          6.134701000000001,
          1.0235730000000007,
          1.016838,
          3.2390679999999996,
          7.272752000000002,
          3.420886999999997,
          8.766126,
          4.8313310000000005,
          6.823632000000002,
          1.1621760000000023,
          2.971848999999999,
          10.101846,
          10.148614,
          4.033723000000002,
          19.759398,
          8.443581
         ],
         "xaxis": "x19",
         "yaxis": "y19"
        },
        {
         "name": "basketball_dribbing",
         "nbinsx": 10,
         "type": "histogram",
         "x": [
          2.130405999999997
         ],
         "xaxis": "x20",
         "yaxis": "y20"
        },
        {
         "name": "footsteps",
         "nbinsx": 10,
         "type": "histogram",
         "x": [
          1.44517,
          0.6347420000000001
         ],
         "xaxis": "x21",
         "yaxis": "y21"
        },
        {
         "name": "swallowing",
         "nbinsx": 10,
         "type": "histogram",
         "x": [
          1.157172,
          1.3415359999999996,
          1.1061779999999999,
          0.4471790000000002,
          0.5062770000000008
         ],
         "xaxis": "x22",
         "yaxis": "y22"
        },
        {
         "name": "birds_chirping",
         "nbinsx": 10,
         "type": "histogram",
         "x": [
          3.7939420000000004
         ],
         "xaxis": "x23",
         "yaxis": "y23"
        }
       ],
       "layout": {
        "template": {
         "data": {
          "bar": [
           {
            "error_x": {
             "color": "#2a3f5f"
            },
            "error_y": {
             "color": "#2a3f5f"
            },
            "marker": {
             "line": {
              "color": "#E5ECF6",
              "width": 0.5
             },
             "pattern": {
              "fillmode": "overlay",
              "size": 10,
              "solidity": 0.2
             }
            },
            "type": "bar"
           }
          ],
          "barpolar": [
           {
            "marker": {
             "line": {
              "color": "#E5ECF6",
              "width": 0.5
             },
             "pattern": {
              "fillmode": "overlay",
              "size": 10,
              "solidity": 0.2
             }
            },
            "type": "barpolar"
           }
          ],
          "carpet": [
           {
            "aaxis": {
             "endlinecolor": "#2a3f5f",
             "gridcolor": "white",
             "linecolor": "white",
             "minorgridcolor": "white",
             "startlinecolor": "#2a3f5f"
            },
            "baxis": {
             "endlinecolor": "#2a3f5f",
             "gridcolor": "white",
             "linecolor": "white",
             "minorgridcolor": "white",
             "startlinecolor": "#2a3f5f"
            },
            "type": "carpet"
           }
          ],
          "choropleth": [
           {
            "colorbar": {
             "outlinewidth": 0,
             "ticks": ""
            },
            "type": "choropleth"
           }
          ],
          "contour": [
           {
            "colorbar": {
             "outlinewidth": 0,
             "ticks": ""
            },
            "colorscale": [
             [
              0,
              "#0d0887"
             ],
             [
              0.1111111111111111,
              "#46039f"
             ],
             [
              0.2222222222222222,
              "#7201a8"
             ],
             [
              0.3333333333333333,
              "#9c179e"
             ],
             [
              0.4444444444444444,
              "#bd3786"
             ],
             [
              0.5555555555555556,
              "#d8576b"
             ],
             [
              0.6666666666666666,
              "#ed7953"
             ],
             [
              0.7777777777777778,
              "#fb9f3a"
             ],
             [
              0.8888888888888888,
              "#fdca26"
             ],
             [
              1,
              "#f0f921"
             ]
            ],
            "type": "contour"
           }
          ],
          "contourcarpet": [
           {
            "colorbar": {
             "outlinewidth": 0,
             "ticks": ""
            },
            "type": "contourcarpet"
           }
          ],
          "heatmap": [
           {
            "colorbar": {
             "outlinewidth": 0,
             "ticks": ""
            },
            "colorscale": [
             [
              0,
              "#0d0887"
             ],
             [
              0.1111111111111111,
              "#46039f"
             ],
             [
              0.2222222222222222,
              "#7201a8"
             ],
             [
              0.3333333333333333,
              "#9c179e"
             ],
             [
              0.4444444444444444,
              "#bd3786"
             ],
             [
              0.5555555555555556,
              "#d8576b"
             ],
             [
              0.6666666666666666,
              "#ed7953"
             ],
             [
              0.7777777777777778,
              "#fb9f3a"
             ],
             [
              0.8888888888888888,
              "#fdca26"
             ],
             [
              1,
              "#f0f921"
             ]
            ],
            "type": "heatmap"
           }
          ],
          "heatmapgl": [
           {
            "colorbar": {
             "outlinewidth": 0,
             "ticks": ""
            },
            "colorscale": [
             [
              0,
              "#0d0887"
             ],
             [
              0.1111111111111111,
              "#46039f"
             ],
             [
              0.2222222222222222,
              "#7201a8"
             ],
             [
              0.3333333333333333,
              "#9c179e"
             ],
             [
              0.4444444444444444,
              "#bd3786"
             ],
             [
              0.5555555555555556,
              "#d8576b"
             ],
             [
              0.6666666666666666,
              "#ed7953"
             ],
             [
              0.7777777777777778,
              "#fb9f3a"
             ],
             [
              0.8888888888888888,
              "#fdca26"
             ],
             [
              1,
              "#f0f921"
             ]
            ],
            "type": "heatmapgl"
           }
          ],
          "histogram": [
           {
            "marker": {
             "pattern": {
              "fillmode": "overlay",
              "size": 10,
              "solidity": 0.2
             }
            },
            "type": "histogram"
           }
          ],
          "histogram2d": [
           {
            "colorbar": {
             "outlinewidth": 0,
             "ticks": ""
            },
            "colorscale": [
             [
              0,
              "#0d0887"
             ],
             [
              0.1111111111111111,
              "#46039f"
             ],
             [
              0.2222222222222222,
              "#7201a8"
             ],
             [
              0.3333333333333333,
              "#9c179e"
             ],
             [
              0.4444444444444444,
              "#bd3786"
             ],
             [
              0.5555555555555556,
              "#d8576b"
             ],
             [
              0.6666666666666666,
              "#ed7953"
             ],
             [
              0.7777777777777778,
              "#fb9f3a"
             ],
             [
              0.8888888888888888,
              "#fdca26"
             ],
             [
              1,
              "#f0f921"
             ]
            ],
            "type": "histogram2d"
           }
          ],
          "histogram2dcontour": [
           {
            "colorbar": {
             "outlinewidth": 0,
             "ticks": ""
            },
            "colorscale": [
             [
              0,
              "#0d0887"
             ],
             [
              0.1111111111111111,
              "#46039f"
             ],
             [
              0.2222222222222222,
              "#7201a8"
             ],
             [
              0.3333333333333333,
              "#9c179e"
             ],
             [
              0.4444444444444444,
              "#bd3786"
             ],
             [
              0.5555555555555556,
              "#d8576b"
             ],
             [
              0.6666666666666666,
              "#ed7953"
             ],
             [
              0.7777777777777778,
              "#fb9f3a"
             ],
             [
              0.8888888888888888,
              "#fdca26"
             ],
             [
              1,
              "#f0f921"
             ]
            ],
            "type": "histogram2dcontour"
           }
          ],
          "mesh3d": [
           {
            "colorbar": {
             "outlinewidth": 0,
             "ticks": ""
            },
            "type": "mesh3d"
           }
          ],
          "parcoords": [
           {
            "line": {
             "colorbar": {
              "outlinewidth": 0,
              "ticks": ""
             }
            },
            "type": "parcoords"
           }
          ],
          "pie": [
           {
            "automargin": true,
            "type": "pie"
           }
          ],
          "scatter": [
           {
            "fillpattern": {
             "fillmode": "overlay",
             "size": 10,
             "solidity": 0.2
            },
            "type": "scatter"
           }
          ],
          "scatter3d": [
           {
            "line": {
             "colorbar": {
              "outlinewidth": 0,
              "ticks": ""
             }
            },
            "marker": {
             "colorbar": {
              "outlinewidth": 0,
              "ticks": ""
             }
            },
            "type": "scatter3d"
           }
          ],
          "scattercarpet": [
           {
            "marker": {
             "colorbar": {
              "outlinewidth": 0,
              "ticks": ""
             }
            },
            "type": "scattercarpet"
           }
          ],
          "scattergeo": [
           {
            "marker": {
             "colorbar": {
              "outlinewidth": 0,
              "ticks": ""
             }
            },
            "type": "scattergeo"
           }
          ],
          "scattergl": [
           {
            "marker": {
             "colorbar": {
              "outlinewidth": 0,
              "ticks": ""
             }
            },
            "type": "scattergl"
           }
          ],
          "scattermapbox": [
           {
            "marker": {
             "colorbar": {
              "outlinewidth": 0,
              "ticks": ""
             }
            },
            "type": "scattermapbox"
           }
          ],
          "scatterpolar": [
           {
            "marker": {
             "colorbar": {
              "outlinewidth": 0,
              "ticks": ""
             }
            },
            "type": "scatterpolar"
           }
          ],
          "scatterpolargl": [
           {
            "marker": {
             "colorbar": {
              "outlinewidth": 0,
              "ticks": ""
             }
            },
            "type": "scatterpolargl"
           }
          ],
          "scatterternary": [
           {
            "marker": {
             "colorbar": {
              "outlinewidth": 0,
              "ticks": ""
             }
            },
            "type": "scatterternary"
           }
          ],
          "surface": [
           {
            "colorbar": {
             "outlinewidth": 0,
             "ticks": ""
            },
            "colorscale": [
             [
              0,
              "#0d0887"
             ],
             [
              0.1111111111111111,
              "#46039f"
             ],
             [
              0.2222222222222222,
              "#7201a8"
             ],
             [
              0.3333333333333333,
              "#9c179e"
             ],
             [
              0.4444444444444444,
              "#bd3786"
             ],
             [
              0.5555555555555556,
              "#d8576b"
             ],
             [
              0.6666666666666666,
              "#ed7953"
             ],
             [
              0.7777777777777778,
              "#fb9f3a"
             ],
             [
              0.8888888888888888,
              "#fdca26"
             ],
             [
              1,
              "#f0f921"
             ]
            ],
            "type": "surface"
           }
          ],
          "table": [
           {
            "cells": {
             "fill": {
              "color": "#EBF0F8"
             },
             "line": {
              "color": "white"
             }
            },
            "header": {
             "fill": {
              "color": "#C8D4E3"
             },
             "line": {
              "color": "white"
             }
            },
            "type": "table"
           }
          ]
         },
         "layout": {
          "annotationdefaults": {
           "arrowcolor": "#2a3f5f",
           "arrowhead": 0,
           "arrowwidth": 1
          },
          "autotypenumbers": "strict",
          "coloraxis": {
           "colorbar": {
            "outlinewidth": 0,
            "ticks": ""
           }
          },
          "colorscale": {
           "diverging": [
            [
             0,
             "#8e0152"
            ],
            [
             0.1,
             "#c51b7d"
            ],
            [
             0.2,
             "#de77ae"
            ],
            [
             0.3,
             "#f1b6da"
            ],
            [
             0.4,
             "#fde0ef"
            ],
            [
             0.5,
             "#f7f7f7"
            ],
            [
             0.6,
             "#e6f5d0"
            ],
            [
             0.7,
             "#b8e186"
            ],
            [
             0.8,
             "#7fbc41"
            ],
            [
             0.9,
             "#4d9221"
            ],
            [
             1,
             "#276419"
            ]
           ],
           "sequential": [
            [
             0,
             "#0d0887"
            ],
            [
             0.1111111111111111,
             "#46039f"
            ],
            [
             0.2222222222222222,
             "#7201a8"
            ],
            [
             0.3333333333333333,
             "#9c179e"
            ],
            [
             0.4444444444444444,
             "#bd3786"
            ],
            [
             0.5555555555555556,
             "#d8576b"
            ],
            [
             0.6666666666666666,
             "#ed7953"
            ],
            [
             0.7777777777777778,
             "#fb9f3a"
            ],
            [
             0.8888888888888888,
             "#fdca26"
            ],
            [
             1,
             "#f0f921"
            ]
           ],
           "sequentialminus": [
            [
             0,
             "#0d0887"
            ],
            [
             0.1111111111111111,
             "#46039f"
            ],
            [
             0.2222222222222222,
             "#7201a8"
            ],
            [
             0.3333333333333333,
             "#9c179e"
            ],
            [
             0.4444444444444444,
             "#bd3786"
            ],
            [
             0.5555555555555556,
             "#d8576b"
            ],
            [
             0.6666666666666666,
             "#ed7953"
            ],
            [
             0.7777777777777778,
             "#fb9f3a"
            ],
            [
             0.8888888888888888,
             "#fdca26"
            ],
            [
             1,
             "#f0f921"
            ]
           ]
          },
          "colorway": [
           "#636efa",
           "#EF553B",
           "#00cc96",
           "#ab63fa",
           "#FFA15A",
           "#19d3f3",
           "#FF6692",
           "#B6E880",
           "#FF97FF",
           "#FECB52"
          ],
          "font": {
           "color": "#2a3f5f"
          },
          "geo": {
           "bgcolor": "white",
           "lakecolor": "white",
           "landcolor": "#E5ECF6",
           "showlakes": true,
           "showland": true,
           "subunitcolor": "white"
          },
          "hoverlabel": {
           "align": "left"
          },
          "hovermode": "closest",
          "mapbox": {
           "style": "light"
          },
          "paper_bgcolor": "white",
          "plot_bgcolor": "#E5ECF6",
          "polar": {
           "angularaxis": {
            "gridcolor": "white",
            "linecolor": "white",
            "ticks": ""
           },
           "bgcolor": "#E5ECF6",
           "radialaxis": {
            "gridcolor": "white",
            "linecolor": "white",
            "ticks": ""
           }
          },
          "scene": {
           "xaxis": {
            "backgroundcolor": "#E5ECF6",
            "gridcolor": "white",
            "gridwidth": 2,
            "linecolor": "white",
            "showbackground": true,
            "ticks": "",
            "zerolinecolor": "white"
           },
           "yaxis": {
            "backgroundcolor": "#E5ECF6",
            "gridcolor": "white",
            "gridwidth": 2,
            "linecolor": "white",
            "showbackground": true,
            "ticks": "",
            "zerolinecolor": "white"
           },
           "zaxis": {
            "backgroundcolor": "#E5ECF6",
            "gridcolor": "white",
            "gridwidth": 2,
            "linecolor": "white",
            "showbackground": true,
            "ticks": "",
            "zerolinecolor": "white"
           }
          },
          "shapedefaults": {
           "line": {
            "color": "#2a3f5f"
           }
          },
          "ternary": {
           "aaxis": {
            "gridcolor": "white",
            "linecolor": "white",
            "ticks": ""
           },
           "baxis": {
            "gridcolor": "white",
            "linecolor": "white",
            "ticks": ""
           },
           "bgcolor": "#E5ECF6",
           "caxis": {
            "gridcolor": "white",
            "linecolor": "white",
            "ticks": ""
           }
          },
          "title": {
           "x": 0.05
          },
          "xaxis": {
           "automargin": true,
           "gridcolor": "white",
           "linecolor": "white",
           "ticks": "",
           "title": {
            "standoff": 15
           },
           "zerolinecolor": "white",
           "zerolinewidth": 2
          },
          "yaxis": {
           "automargin": true,
           "gridcolor": "white",
           "linecolor": "white",
           "ticks": "",
           "title": {
            "standoff": 15
           },
           "zerolinecolor": "white",
           "zerolinewidth": 2
          }
         }
        },
        "xaxis": {
         "anchor": "y",
         "domain": [
          0,
          1
         ]
        },
        "xaxis10": {
         "anchor": "y10",
         "domain": [
          0,
          1
         ]
        },
        "xaxis11": {
         "anchor": "y11",
         "domain": [
          0,
          1
         ]
        },
        "xaxis12": {
         "anchor": "y12",
         "domain": [
          0,
          1
         ]
        },
        "xaxis13": {
         "anchor": "y13",
         "domain": [
          0,
          1
         ]
        },
        "xaxis14": {
         "anchor": "y14",
         "domain": [
          0,
          1
         ]
        },
        "xaxis15": {
         "anchor": "y15",
         "domain": [
          0,
          1
         ]
        },
        "xaxis16": {
         "anchor": "y16",
         "domain": [
          0,
          1
         ]
        },
        "xaxis17": {
         "anchor": "y17",
         "domain": [
          0,
          1
         ]
        },
        "xaxis18": {
         "anchor": "y18",
         "domain": [
          0,
          1
         ]
        },
        "xaxis19": {
         "anchor": "y19",
         "domain": [
          0,
          1
         ]
        },
        "xaxis2": {
         "anchor": "y2",
         "domain": [
          0,
          1
         ]
        },
        "xaxis20": {
         "anchor": "y20",
         "domain": [
          0,
          1
         ]
        },
        "xaxis21": {
         "anchor": "y21",
         "domain": [
          0,
          1
         ]
        },
        "xaxis22": {
         "anchor": "y22",
         "domain": [
          0,
          1
         ]
        },
        "xaxis23": {
         "anchor": "y23",
         "domain": [
          0,
          1
         ]
        },
        "xaxis3": {
         "anchor": "y3",
         "domain": [
          0,
          1
         ]
        },
        "xaxis4": {
         "anchor": "y4",
         "domain": [
          0,
          1
         ]
        },
        "xaxis5": {
         "anchor": "y5",
         "domain": [
          0,
          1
         ]
        },
        "xaxis6": {
         "anchor": "y6",
         "domain": [
          0,
          1
         ]
        },
        "xaxis7": {
         "anchor": "y7",
         "domain": [
          0,
          1
         ]
        },
        "xaxis8": {
         "anchor": "y8",
         "domain": [
          0,
          1
         ]
        },
        "xaxis9": {
         "anchor": "y9",
         "domain": [
          0,
          1
         ]
        },
        "yaxis": {
         "anchor": "x",
         "domain": [
          0.9689981096408316,
          0.9999999999999998
         ]
        },
        "yaxis10": {
         "anchor": "x10",
         "domain": [
          0.5725897920604913,
          0.6035916824196595
         ]
        },
        "yaxis11": {
         "anchor": "x11",
         "domain": [
          0.5285444234404535,
          0.5595463137996217
         ]
        },
        "yaxis12": {
         "anchor": "x12",
         "domain": [
          0.4844990548204158,
          0.515500945179584
         ]
        },
        "yaxis13": {
         "anchor": "x13",
         "domain": [
          0.44045368620037795,
          0.4714555765595462
         ]
        },
        "yaxis14": {
         "anchor": "x14",
         "domain": [
          0.3964083175803402,
          0.4274102079395084
         ]
        },
        "yaxis15": {
         "anchor": "x15",
         "domain": [
          0.3523629489603024,
          0.38336483931947063
         ]
        },
        "yaxis16": {
         "anchor": "x16",
         "domain": [
          0.3083175803402646,
          0.3393194706994328
         ]
        },
        "yaxis17": {
         "anchor": "x17",
         "domain": [
          0.2642722117202268,
          0.29527410207939503
         ]
        },
        "yaxis18": {
         "anchor": "x18",
         "domain": [
          0.22022684310018903,
          0.25122873345935726
         ]
        },
        "yaxis19": {
         "anchor": "x19",
         "domain": [
          0.17618147448015123,
          0.20718336483931948
         ]
        },
        "yaxis2": {
         "anchor": "x2",
         "domain": [
          0.9249527410207937,
          0.955954631379962
         ]
        },
        "yaxis20": {
         "anchor": "x20",
         "domain": [
          0.13213610586011343,
          0.16313799621928166
         ]
        },
        "yaxis21": {
         "anchor": "x21",
         "domain": [
          0.08809073724007561,
          0.11909262759924386
         ]
        },
        "yaxis22": {
         "anchor": "x22",
         "domain": [
          0.04404536862003781,
          0.07504725897920606
         ]
        },
        "yaxis23": {
         "anchor": "x23",
         "domain": [
          0,
          0.03100189035916824
         ]
        },
        "yaxis3": {
         "anchor": "x3",
         "domain": [
          0.8809073724007559,
          0.9119092627599241
         ]
        },
        "yaxis4": {
         "anchor": "x4",
         "domain": [
          0.8368620037807182,
          0.8678638941398864
         ]
        },
        "yaxis5": {
         "anchor": "x5",
         "domain": [
          0.7928166351606803,
          0.8238185255198486
         ]
        },
        "yaxis6": {
         "anchor": "x6",
         "domain": [
          0.7487712665406425,
          0.7797731568998107
         ]
        },
        "yaxis7": {
         "anchor": "x7",
         "domain": [
          0.7047258979206047,
          0.7357277882797729
         ]
        },
        "yaxis8": {
         "anchor": "x8",
         "domain": [
          0.6606805293005669,
          0.6916824196597351
         ]
        },
        "yaxis9": {
         "anchor": "x9",
         "domain": [
          0.6166351606805291,
          0.6476370510396974
         ]
        }
       }
      },
      "text/html": [
       "<div>                            <div id=\"6aab2770-69b4-4496-a8b3-71ef56d4dae0\" class=\"plotly-graph-div\" style=\"height:525px; width:100%;\"></div>            <script type=\"text/javascript\">                require([\"plotly\"], function(Plotly) {                    window.PLOTLYENV=window.PLOTLYENV || {};                                    if (document.getElementById(\"6aab2770-69b4-4496-a8b3-71ef56d4dae0\")) {                    Plotly.newPlot(                        \"6aab2770-69b4-4496-a8b3-71ef56d4dae0\",                        [{\"name\":\"chewing_gum\",\"nbinsx\":10,\"x\":[10.305492,9.605498,4.893615,5.197881,1.1409979999999997,5.24134,2.1732379999999996,3.835126,7.692897],\"type\":\"histogram\",\"xaxis\":\"x\",\"yaxis\":\"y\"},{\"name\":\"talking\",\"nbinsx\":10,\"x\":[2.8042160000000003,2.1714279999999997,1.047070999999999,2.703975],\"type\":\"histogram\",\"xaxis\":\"x2\",\"yaxis\":\"y2\"},{\"name\":\"lip_smacks\",\"nbinsx\":10,\"x\":[1.210829,3.4289869999999993,1.4143300000000014,0.9103770000000001,2.332915,8.809885999999999,10.916038999999998,2.2345770000000016,1.4575549999999997,13.860801,6.67364,3.06067,4.8786619999999985,3.1066949999999984,5.902719000000001],\"type\":\"histogram\",\"xaxis\":\"x3\",\"yaxis\":\"y3\"},{\"name\":\"mouth_sounds_other\",\"nbinsx\":10,\"x\":[1.9332560000000005,5.606444,2.065532000000001],\"type\":\"histogram\",\"xaxis\":\"x4\",\"yaxis\":\"y4\"},{\"name\":\"water_drops\",\"nbinsx\":10,\"x\":[101.318,0.5499700000000001,7.035034999999999,0.595800999999998,7.401682000000001,10.289026,11.159811000000005,17.484469000000004,77.66187799999999,13.990934,127.257333],\"type\":\"histogram\",\"xaxis\":\"x5\",\"yaxis\":\"y5\"},{\"name\":\"basketball_dribbling\",\"nbinsx\":10,\"x\":[2.4907399999999997,2.377657,2.734305,0.939464000000001,13.728928,4.771711,4.818607999999998,14.309270999999999,10.483348999999999,0.474812,5.7664670000000005,6.9520360000000005,2.2784500000000003,1.774856999999999,4.33581,2.892586999999999,3.285634999999999,4.520052,8.254006999999994,0.6264200000000031,6.573837,6.4784489999999995],\"type\":\"histogram\",\"xaxis\":\"x6\",\"yaxis\":\"y6\"},{\"name\":\"human_breathing\",\"nbinsx\":10,\"x\":[12.828765,15.503853999999999,10.459056,19.661949999999997,1.9077529999999996,11.02033,17.489818999999997,15.725121,21.286932999999998,5.117777],\"type\":\"histogram\",\"xaxis\":\"x7\",\"yaxis\":\"y7\"},{\"name\":\"sliding_ceramic\",\"nbinsx\":10,\"x\":[1.013598,0.969875],\"type\":\"histogram\",\"xaxis\":\"x8\",\"yaxis\":\"y8\"},{\"name\":\"slurping\",\"nbinsx\":10,\"x\":[1.244142,2.2617150000000006,4.006695000000001,1.6749409999999996,1.5801929999999995,6.3721640000000015,4.7534279999999995,0.5652720000000002,2.6079620000000006,2.7235859999999974,0.44964899999999375,0.642355000000002,0.8757079999999999,1.3631090000000001,2.361416,2.228047,2.0083800000000007,2.011673,1.6971749999999997,0.9895400000000016,0.9665280000000003,1.9215479999999996,2.266735999999998,2.2437240000000003],\"type\":\"histogram\",\"xaxis\":\"x9\",\"yaxis\":\"y9\"},{\"name\":\"exhaling\",\"nbinsx\":10,\"x\":[1.6654810000000007,1.4190380000000005,2.0510459999999995,1.436813,0.8113770000000002,0.8367319999999996,0.8029249999999983,1.3079180000000008,3.705021000000002],\"type\":\"histogram\",\"xaxis\":\"x10\",\"yaxis\":\"y10\"},{\"name\":\"tapping\",\"nbinsx\":10,\"x\":[2.8857739999999996,0.16893300000000266,1.5288059999999994,8.093674999999998,0.5909669999999991],\"type\":\"histogram\",\"xaxis\":\"x11\",\"yaxis\":\"y11\"},{\"name\":\"recording_artifact\",\"nbinsx\":10,\"x\":[7.241274000000001,1.042652000000004,3.0878869999999985,2.0632719999999978,14.902026],\"type\":\"histogram\",\"xaxis\":\"x12\",\"yaxis\":\"y12\"},{\"name\":\"knife_cutting\",\"nbinsx\":10,\"x\":[4.0601840000000005,4.112506,9.557412,2.4158749999999998,5.050651,3.5770029999999995,6.581748000000001,7.765515000000001,4.498317,5.090201,3.717030000000001,3.4802759999999964,11.107935999999999],\"type\":\"histogram\",\"xaxis\":\"x13\",\"yaxis\":\"y13\"},{\"name\":\"squishing\",\"nbinsx\":10,\"x\":[4.949657],\"type\":\"histogram\",\"xaxis\":\"x14\",\"yaxis\":\"y14\"},{\"name\":\"flipping_newspaper_pages\",\"nbinsx\":10,\"x\":[1.651316,2.191881,1.7772010000000007,1.3032810000000001,1.399545999999999,1.8734660000000005,1.414355999999998,1.8142260000000014,4.31936,2.244453,0.500041,0.49000600000000016,0.8579299999999996,26.117781,20.619301,4.997221,1.476452,3.2936239999999994],\"type\":\"histogram\",\"xaxis\":\"x15\",\"yaxis\":\"y15\"},{\"name\":\"whimpering\",\"nbinsx\":10,\"x\":[0.21406400000000048],\"type\":\"histogram\",\"xaxis\":\"x16\",\"yaxis\":\"y16\"},{\"name\":\"plastic_crumpling\",\"nbinsx\":10,\"x\":[7.5040000000000004,5.927999999999999,2.038657,1.9777010000000002,6.063808000000001,5.1168830000000005,4.320296],\"type\":\"histogram\",\"xaxis\":\"x17\",\"yaxis\":\"y17\"},{\"name\":\"tearing_paper\",\"nbinsx\":10,\"x\":[1.869253],\"type\":\"histogram\",\"xaxis\":\"x18\",\"yaxis\":\"y18\"},{\"name\":\"typing\",\"nbinsx\":10,\"x\":[10.757464,6.134701000000001,1.0235730000000007,1.016838,3.2390679999999996,7.272752000000002,3.420886999999997,8.766126,4.8313310000000005,6.823632000000002,1.1621760000000023,2.971848999999999,10.101846,10.148614,4.033723000000002,19.759398,8.443581],\"type\":\"histogram\",\"xaxis\":\"x19\",\"yaxis\":\"y19\"},{\"name\":\"basketball_dribbing\",\"nbinsx\":10,\"x\":[2.130405999999997],\"type\":\"histogram\",\"xaxis\":\"x20\",\"yaxis\":\"y20\"},{\"name\":\"footsteps\",\"nbinsx\":10,\"x\":[1.44517,0.6347420000000001],\"type\":\"histogram\",\"xaxis\":\"x21\",\"yaxis\":\"y21\"},{\"name\":\"swallowing\",\"nbinsx\":10,\"x\":[1.157172,1.3415359999999996,1.1061779999999999,0.4471790000000002,0.5062770000000008],\"type\":\"histogram\",\"xaxis\":\"x22\",\"yaxis\":\"y22\"},{\"name\":\"birds_chirping\",\"nbinsx\":10,\"x\":[3.7939420000000004],\"type\":\"histogram\",\"xaxis\":\"x23\",\"yaxis\":\"y23\"}],                        {\"template\":{\"data\":{\"histogram2dcontour\":[{\"type\":\"histogram2dcontour\",\"colorbar\":{\"outlinewidth\":0,\"ticks\":\"\"},\"colorscale\":[[0.0,\"#0d0887\"],[0.1111111111111111,\"#46039f\"],[0.2222222222222222,\"#7201a8\"],[0.3333333333333333,\"#9c179e\"],[0.4444444444444444,\"#bd3786\"],[0.5555555555555556,\"#d8576b\"],[0.6666666666666666,\"#ed7953\"],[0.7777777777777778,\"#fb9f3a\"],[0.8888888888888888,\"#fdca26\"],[1.0,\"#f0f921\"]]}],\"choropleth\":[{\"type\":\"choropleth\",\"colorbar\":{\"outlinewidth\":0,\"ticks\":\"\"}}],\"histogram2d\":[{\"type\":\"histogram2d\",\"colorbar\":{\"outlinewidth\":0,\"ticks\":\"\"},\"colorscale\":[[0.0,\"#0d0887\"],[0.1111111111111111,\"#46039f\"],[0.2222222222222222,\"#7201a8\"],[0.3333333333333333,\"#9c179e\"],[0.4444444444444444,\"#bd3786\"],[0.5555555555555556,\"#d8576b\"],[0.6666666666666666,\"#ed7953\"],[0.7777777777777778,\"#fb9f3a\"],[0.8888888888888888,\"#fdca26\"],[1.0,\"#f0f921\"]]}],\"heatmap\":[{\"type\":\"heatmap\",\"colorbar\":{\"outlinewidth\":0,\"ticks\":\"\"},\"colorscale\":[[0.0,\"#0d0887\"],[0.1111111111111111,\"#46039f\"],[0.2222222222222222,\"#7201a8\"],[0.3333333333333333,\"#9c179e\"],[0.4444444444444444,\"#bd3786\"],[0.5555555555555556,\"#d8576b\"],[0.6666666666666666,\"#ed7953\"],[0.7777777777777778,\"#fb9f3a\"],[0.8888888888888888,\"#fdca26\"],[1.0,\"#f0f921\"]]}],\"heatmapgl\":[{\"type\":\"heatmapgl\",\"colorbar\":{\"outlinewidth\":0,\"ticks\":\"\"},\"colorscale\":[[0.0,\"#0d0887\"],[0.1111111111111111,\"#46039f\"],[0.2222222222222222,\"#7201a8\"],[0.3333333333333333,\"#9c179e\"],[0.4444444444444444,\"#bd3786\"],[0.5555555555555556,\"#d8576b\"],[0.6666666666666666,\"#ed7953\"],[0.7777777777777778,\"#fb9f3a\"],[0.8888888888888888,\"#fdca26\"],[1.0,\"#f0f921\"]]}],\"contourcarpet\":[{\"type\":\"contourcarpet\",\"colorbar\":{\"outlinewidth\":0,\"ticks\":\"\"}}],\"contour\":[{\"type\":\"contour\",\"colorbar\":{\"outlinewidth\":0,\"ticks\":\"\"},\"colorscale\":[[0.0,\"#0d0887\"],[0.1111111111111111,\"#46039f\"],[0.2222222222222222,\"#7201a8\"],[0.3333333333333333,\"#9c179e\"],[0.4444444444444444,\"#bd3786\"],[0.5555555555555556,\"#d8576b\"],[0.6666666666666666,\"#ed7953\"],[0.7777777777777778,\"#fb9f3a\"],[0.8888888888888888,\"#fdca26\"],[1.0,\"#f0f921\"]]}],\"surface\":[{\"type\":\"surface\",\"colorbar\":{\"outlinewidth\":0,\"ticks\":\"\"},\"colorscale\":[[0.0,\"#0d0887\"],[0.1111111111111111,\"#46039f\"],[0.2222222222222222,\"#7201a8\"],[0.3333333333333333,\"#9c179e\"],[0.4444444444444444,\"#bd3786\"],[0.5555555555555556,\"#d8576b\"],[0.6666666666666666,\"#ed7953\"],[0.7777777777777778,\"#fb9f3a\"],[0.8888888888888888,\"#fdca26\"],[1.0,\"#f0f921\"]]}],\"mesh3d\":[{\"type\":\"mesh3d\",\"colorbar\":{\"outlinewidth\":0,\"ticks\":\"\"}}],\"scatter\":[{\"fillpattern\":{\"fillmode\":\"overlay\",\"size\":10,\"solidity\":0.2},\"type\":\"scatter\"}],\"parcoords\":[{\"type\":\"parcoords\",\"line\":{\"colorbar\":{\"outlinewidth\":0,\"ticks\":\"\"}}}],\"scatterpolargl\":[{\"type\":\"scatterpolargl\",\"marker\":{\"colorbar\":{\"outlinewidth\":0,\"ticks\":\"\"}}}],\"bar\":[{\"error_x\":{\"color\":\"#2a3f5f\"},\"error_y\":{\"color\":\"#2a3f5f\"},\"marker\":{\"line\":{\"color\":\"#E5ECF6\",\"width\":0.5},\"pattern\":{\"fillmode\":\"overlay\",\"size\":10,\"solidity\":0.2}},\"type\":\"bar\"}],\"scattergeo\":[{\"type\":\"scattergeo\",\"marker\":{\"colorbar\":{\"outlinewidth\":0,\"ticks\":\"\"}}}],\"scatterpolar\":[{\"type\":\"scatterpolar\",\"marker\":{\"colorbar\":{\"outlinewidth\":0,\"ticks\":\"\"}}}],\"histogram\":[{\"marker\":{\"pattern\":{\"fillmode\":\"overlay\",\"size\":10,\"solidity\":0.2}},\"type\":\"histogram\"}],\"scattergl\":[{\"type\":\"scattergl\",\"marker\":{\"colorbar\":{\"outlinewidth\":0,\"ticks\":\"\"}}}],\"scatter3d\":[{\"type\":\"scatter3d\",\"line\":{\"colorbar\":{\"outlinewidth\":0,\"ticks\":\"\"}},\"marker\":{\"colorbar\":{\"outlinewidth\":0,\"ticks\":\"\"}}}],\"scattermapbox\":[{\"type\":\"scattermapbox\",\"marker\":{\"colorbar\":{\"outlinewidth\":0,\"ticks\":\"\"}}}],\"scatterternary\":[{\"type\":\"scatterternary\",\"marker\":{\"colorbar\":{\"outlinewidth\":0,\"ticks\":\"\"}}}],\"scattercarpet\":[{\"type\":\"scattercarpet\",\"marker\":{\"colorbar\":{\"outlinewidth\":0,\"ticks\":\"\"}}}],\"carpet\":[{\"aaxis\":{\"endlinecolor\":\"#2a3f5f\",\"gridcolor\":\"white\",\"linecolor\":\"white\",\"minorgridcolor\":\"white\",\"startlinecolor\":\"#2a3f5f\"},\"baxis\":{\"endlinecolor\":\"#2a3f5f\",\"gridcolor\":\"white\",\"linecolor\":\"white\",\"minorgridcolor\":\"white\",\"startlinecolor\":\"#2a3f5f\"},\"type\":\"carpet\"}],\"table\":[{\"cells\":{\"fill\":{\"color\":\"#EBF0F8\"},\"line\":{\"color\":\"white\"}},\"header\":{\"fill\":{\"color\":\"#C8D4E3\"},\"line\":{\"color\":\"white\"}},\"type\":\"table\"}],\"barpolar\":[{\"marker\":{\"line\":{\"color\":\"#E5ECF6\",\"width\":0.5},\"pattern\":{\"fillmode\":\"overlay\",\"size\":10,\"solidity\":0.2}},\"type\":\"barpolar\"}],\"pie\":[{\"automargin\":true,\"type\":\"pie\"}]},\"layout\":{\"autotypenumbers\":\"strict\",\"colorway\":[\"#636efa\",\"#EF553B\",\"#00cc96\",\"#ab63fa\",\"#FFA15A\",\"#19d3f3\",\"#FF6692\",\"#B6E880\",\"#FF97FF\",\"#FECB52\"],\"font\":{\"color\":\"#2a3f5f\"},\"hovermode\":\"closest\",\"hoverlabel\":{\"align\":\"left\"},\"paper_bgcolor\":\"white\",\"plot_bgcolor\":\"#E5ECF6\",\"polar\":{\"bgcolor\":\"#E5ECF6\",\"angularaxis\":{\"gridcolor\":\"white\",\"linecolor\":\"white\",\"ticks\":\"\"},\"radialaxis\":{\"gridcolor\":\"white\",\"linecolor\":\"white\",\"ticks\":\"\"}},\"ternary\":{\"bgcolor\":\"#E5ECF6\",\"aaxis\":{\"gridcolor\":\"white\",\"linecolor\":\"white\",\"ticks\":\"\"},\"baxis\":{\"gridcolor\":\"white\",\"linecolor\":\"white\",\"ticks\":\"\"},\"caxis\":{\"gridcolor\":\"white\",\"linecolor\":\"white\",\"ticks\":\"\"}},\"coloraxis\":{\"colorbar\":{\"outlinewidth\":0,\"ticks\":\"\"}},\"colorscale\":{\"sequential\":[[0.0,\"#0d0887\"],[0.1111111111111111,\"#46039f\"],[0.2222222222222222,\"#7201a8\"],[0.3333333333333333,\"#9c179e\"],[0.4444444444444444,\"#bd3786\"],[0.5555555555555556,\"#d8576b\"],[0.6666666666666666,\"#ed7953\"],[0.7777777777777778,\"#fb9f3a\"],[0.8888888888888888,\"#fdca26\"],[1.0,\"#f0f921\"]],\"sequentialminus\":[[0.0,\"#0d0887\"],[0.1111111111111111,\"#46039f\"],[0.2222222222222222,\"#7201a8\"],[0.3333333333333333,\"#9c179e\"],[0.4444444444444444,\"#bd3786\"],[0.5555555555555556,\"#d8576b\"],[0.6666666666666666,\"#ed7953\"],[0.7777777777777778,\"#fb9f3a\"],[0.8888888888888888,\"#fdca26\"],[1.0,\"#f0f921\"]],\"diverging\":[[0,\"#8e0152\"],[0.1,\"#c51b7d\"],[0.2,\"#de77ae\"],[0.3,\"#f1b6da\"],[0.4,\"#fde0ef\"],[0.5,\"#f7f7f7\"],[0.6,\"#e6f5d0\"],[0.7,\"#b8e186\"],[0.8,\"#7fbc41\"],[0.9,\"#4d9221\"],[1,\"#276419\"]]},\"xaxis\":{\"gridcolor\":\"white\",\"linecolor\":\"white\",\"ticks\":\"\",\"title\":{\"standoff\":15},\"zerolinecolor\":\"white\",\"automargin\":true,\"zerolinewidth\":2},\"yaxis\":{\"gridcolor\":\"white\",\"linecolor\":\"white\",\"ticks\":\"\",\"title\":{\"standoff\":15},\"zerolinecolor\":\"white\",\"automargin\":true,\"zerolinewidth\":2},\"scene\":{\"xaxis\":{\"backgroundcolor\":\"#E5ECF6\",\"gridcolor\":\"white\",\"linecolor\":\"white\",\"showbackground\":true,\"ticks\":\"\",\"zerolinecolor\":\"white\",\"gridwidth\":2},\"yaxis\":{\"backgroundcolor\":\"#E5ECF6\",\"gridcolor\":\"white\",\"linecolor\":\"white\",\"showbackground\":true,\"ticks\":\"\",\"zerolinecolor\":\"white\",\"gridwidth\":2},\"zaxis\":{\"backgroundcolor\":\"#E5ECF6\",\"gridcolor\":\"white\",\"linecolor\":\"white\",\"showbackground\":true,\"ticks\":\"\",\"zerolinecolor\":\"white\",\"gridwidth\":2}},\"shapedefaults\":{\"line\":{\"color\":\"#2a3f5f\"}},\"annotationdefaults\":{\"arrowcolor\":\"#2a3f5f\",\"arrowhead\":0,\"arrowwidth\":1},\"geo\":{\"bgcolor\":\"white\",\"landcolor\":\"#E5ECF6\",\"subunitcolor\":\"white\",\"showland\":true,\"showlakes\":true,\"lakecolor\":\"white\"},\"title\":{\"x\":0.05},\"mapbox\":{\"style\":\"light\"}}},\"xaxis\":{\"anchor\":\"y\",\"domain\":[0.0,1.0]},\"yaxis\":{\"anchor\":\"x\",\"domain\":[0.9689981096408316,0.9999999999999998]},\"xaxis2\":{\"anchor\":\"y2\",\"domain\":[0.0,1.0]},\"yaxis2\":{\"anchor\":\"x2\",\"domain\":[0.9249527410207937,0.955954631379962]},\"xaxis3\":{\"anchor\":\"y3\",\"domain\":[0.0,1.0]},\"yaxis3\":{\"anchor\":\"x3\",\"domain\":[0.8809073724007559,0.9119092627599241]},\"xaxis4\":{\"anchor\":\"y4\",\"domain\":[0.0,1.0]},\"yaxis4\":{\"anchor\":\"x4\",\"domain\":[0.8368620037807182,0.8678638941398864]},\"xaxis5\":{\"anchor\":\"y5\",\"domain\":[0.0,1.0]},\"yaxis5\":{\"anchor\":\"x5\",\"domain\":[0.7928166351606803,0.8238185255198486]},\"xaxis6\":{\"anchor\":\"y6\",\"domain\":[0.0,1.0]},\"yaxis6\":{\"anchor\":\"x6\",\"domain\":[0.7487712665406425,0.7797731568998107]},\"xaxis7\":{\"anchor\":\"y7\",\"domain\":[0.0,1.0]},\"yaxis7\":{\"anchor\":\"x7\",\"domain\":[0.7047258979206047,0.7357277882797729]},\"xaxis8\":{\"anchor\":\"y8\",\"domain\":[0.0,1.0]},\"yaxis8\":{\"anchor\":\"x8\",\"domain\":[0.6606805293005669,0.6916824196597351]},\"xaxis9\":{\"anchor\":\"y9\",\"domain\":[0.0,1.0]},\"yaxis9\":{\"anchor\":\"x9\",\"domain\":[0.6166351606805291,0.6476370510396974]},\"xaxis10\":{\"anchor\":\"y10\",\"domain\":[0.0,1.0]},\"yaxis10\":{\"anchor\":\"x10\",\"domain\":[0.5725897920604913,0.6035916824196595]},\"xaxis11\":{\"anchor\":\"y11\",\"domain\":[0.0,1.0]},\"yaxis11\":{\"anchor\":\"x11\",\"domain\":[0.5285444234404535,0.5595463137996217]},\"xaxis12\":{\"anchor\":\"y12\",\"domain\":[0.0,1.0]},\"yaxis12\":{\"anchor\":\"x12\",\"domain\":[0.4844990548204158,0.515500945179584]},\"xaxis13\":{\"anchor\":\"y13\",\"domain\":[0.0,1.0]},\"yaxis13\":{\"anchor\":\"x13\",\"domain\":[0.44045368620037795,0.4714555765595462]},\"xaxis14\":{\"anchor\":\"y14\",\"domain\":[0.0,1.0]},\"yaxis14\":{\"anchor\":\"x14\",\"domain\":[0.3964083175803402,0.4274102079395084]},\"xaxis15\":{\"anchor\":\"y15\",\"domain\":[0.0,1.0]},\"yaxis15\":{\"anchor\":\"x15\",\"domain\":[0.3523629489603024,0.38336483931947063]},\"xaxis16\":{\"anchor\":\"y16\",\"domain\":[0.0,1.0]},\"yaxis16\":{\"anchor\":\"x16\",\"domain\":[0.3083175803402646,0.3393194706994328]},\"xaxis17\":{\"anchor\":\"y17\",\"domain\":[0.0,1.0]},\"yaxis17\":{\"anchor\":\"x17\",\"domain\":[0.2642722117202268,0.29527410207939503]},\"xaxis18\":{\"anchor\":\"y18\",\"domain\":[0.0,1.0]},\"yaxis18\":{\"anchor\":\"x18\",\"domain\":[0.22022684310018903,0.25122873345935726]},\"xaxis19\":{\"anchor\":\"y19\",\"domain\":[0.0,1.0]},\"yaxis19\":{\"anchor\":\"x19\",\"domain\":[0.17618147448015123,0.20718336483931948]},\"xaxis20\":{\"anchor\":\"y20\",\"domain\":[0.0,1.0]},\"yaxis20\":{\"anchor\":\"x20\",\"domain\":[0.13213610586011343,0.16313799621928166]},\"xaxis21\":{\"anchor\":\"y21\",\"domain\":[0.0,1.0]},\"yaxis21\":{\"anchor\":\"x21\",\"domain\":[0.08809073724007561,0.11909262759924386]},\"xaxis22\":{\"anchor\":\"y22\",\"domain\":[0.0,1.0]},\"yaxis22\":{\"anchor\":\"x22\",\"domain\":[0.04404536862003781,0.07504725897920606]},\"xaxis23\":{\"anchor\":\"y23\",\"domain\":[0.0,1.0]},\"yaxis23\":{\"anchor\":\"x23\",\"domain\":[0.0,0.03100189035916824]}},                        {\"responsive\": true}                    ).then(function(){\n",
       "                            \n",
       "var gd = document.getElementById('6aab2770-69b4-4496-a8b3-71ef56d4dae0');\n",
       "var x = new MutationObserver(function (mutations, observer) {{\n",
       "        var display = window.getComputedStyle(gd).display;\n",
       "        if (!display || display === 'none') {{\n",
       "            console.log([gd, 'removed!']);\n",
       "            Plotly.purge(gd);\n",
       "            observer.disconnect();\n",
       "        }}\n",
       "}});\n",
       "\n",
       "// Listen for the removal of the full notebook cells\n",
       "var notebookContainer = gd.closest('#notebook-container');\n",
       "if (notebookContainer) {{\n",
       "    x.observe(notebookContainer, {childList: true});\n",
       "}}\n",
       "\n",
       "// Listen for the clearing of the current output cell\n",
       "var outputEl = gd.closest('.output');\n",
       "if (outputEl) {{\n",
       "    x.observe(outputEl, {childList: true});\n",
       "}}\n",
       "\n",
       "                        })                };                });            </script>        </div>"
      ]
     },
     "metadata": {},
     "output_type": "display_data"
    }
   ],
   "source": [
    "import plotly.graph_objects as go\n",
    "from plotly.subplots import make_subplots\n",
    "labels = label_timing_df[\"Label\"].unique()\n",
    "fig = make_subplots(rows=len(labels), cols=1)\n",
    "for i in range(len(labels)):\n",
    "    label = labels[i]\n",
    "    trace0 = go.Histogram(x=label_timing_df[label_timing_df[\"Label\"]==label][\"Duration\"], nbinsx=10, name=label)\n",
    "    fig.append_trace(trace0, i+1, 1)\n",
    "\n",
    "fig.show()"
   ]
  },
  {
   "cell_type": "code",
   "execution_count": 42,
   "id": "d7427082",
   "metadata": {},
   "outputs": [
    {
     "data": {
      "text/plain": [
       "0"
      ]
     },
     "execution_count": 42,
     "metadata": {},
     "output_type": "execute_result"
    }
   ],
   "source": [
    "i"
   ]
  },
  {
   "cell_type": "code",
   "execution_count": null,
   "id": "83a948f8",
   "metadata": {},
   "outputs": [],
   "source": []
  }
 ],
 "metadata": {
  "kernelspec": {
   "display_name": "Python 3 (ipykernel)",
   "language": "python",
   "name": "python3"
  },
  "language_info": {
   "codemirror_mode": {
    "name": "ipython",
    "version": 3
   },
   "file_extension": ".py",
   "mimetype": "text/x-python",
   "name": "python",
   "nbconvert_exporter": "python",
   "pygments_lexer": "ipython3",
   "version": "3.9.12"
  }
 },
 "nbformat": 4,
 "nbformat_minor": 5
}
