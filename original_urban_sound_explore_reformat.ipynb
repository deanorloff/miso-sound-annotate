{
 "cells": [
  {
   "cell_type": "code",
   "execution_count": 1,
   "metadata": {},
   "outputs": [],
   "source": [
    "import os\n",
    "import shutil\n",
    "import scipy\n",
    "import numpy as np\n",
    "import pandas as pd\n",
    "import matplotlib.pyplot as plt"
   ]
  },
  {
   "cell_type": "code",
   "execution_count": 2,
   "metadata": {},
   "outputs": [],
   "source": [
    "urban_data_folder = os.path.join(\n",
    "    \"D:\", \"Danielle\", \"UrbanSound.tar\", \"UrbanSound\", \"data\"\n",
    ")"
   ]
  },
  {
   "cell_type": "code",
   "execution_count": 3,
   "metadata": {},
   "outputs": [
    {
     "data": {
      "text/plain": [
       "'D:Danielle\\\\UrbanSound.tar\\\\UrbanSound\\\\data'"
      ]
     },
     "execution_count": 3,
     "metadata": {},
     "output_type": "execute_result"
    }
   ],
   "source": [
    "urban_data_folder"
   ]
  },
  {
   "cell_type": "code",
   "execution_count": 4,
   "metadata": {},
   "outputs": [],
   "source": [
    "all_urban_label_folders = [\n",
    "    name\n",
    "    for name in os.listdir(urban_data_folder)\n",
    "    if os.path.isdir(os.path.join(urban_data_folder, name))\n",
    "]\n",
    "\n",
    "list_df = []\n",
    "for folder in all_urban_label_folders:\n",
    "    all_csv_file_names = [\n",
    "        name\n",
    "        for name in os.listdir(os.path.join(urban_data_folder, folder))\n",
    "        if \".csv\" in name\n",
    "    ]\n",
    "    for csv_file in all_csv_file_names:\n",
    "        df = pd.read_csv(\n",
    "            os.path.join(urban_data_folder, folder, csv_file),\n",
    "            names=[\"Start\", \"End\", \"Condition\", \"Label\"],\n",
    "        )\n",
    "        df[\"File\"] = csv_file\n",
    "        list_df.append(df)\n",
    "\n",
    "df_comb = pd.concat(list_df).reset_index()"
   ]
  },
  {
   "cell_type": "code",
   "execution_count": 5,
   "metadata": {},
   "outputs": [],
   "source": [
    "list_diff_time = []\n",
    "for file in np.unique(df_comb[\"File\"]):\n",
    "    df_one_file = df_comb[df_comb[\"File\"] == file].reset_index()\n",
    "    if len(df_one_file) > 1:\n",
    "        start_index = 1\n",
    "        while start_index < len(df_one_file):\n",
    "            end_index = start_index - 1\n",
    "            diff_time = (\n",
    "                df_one_file[\"Start\"][start_index] - df_one_file[\"End\"][end_index]\n",
    "            )\n",
    "            list_diff_time.append(diff_time)\n",
    "            start_index += 1"
   ]
  },
  {
   "cell_type": "code",
   "execution_count": 6,
   "metadata": {},
   "outputs": [],
   "source": [
    "list_diff_time = []\n",
    "list_file_name = []\n",
    "for file in np.unique(df_comb[\"File\"]):\n",
    "    df_one_file = df_comb[df_comb[\"File\"] == file].reset_index()\n",
    "    if len(df_one_file) > 1:\n",
    "        start_times = np.sort(df_one_file[\"Start\"])\n",
    "        end_times = np.sort(df_one_file[\"End\"])\n",
    "        diff_time_one_file = start_times[1:] - end_times[:1]\n",
    "        list_diff_time.extend(diff_time_one_file)\n",
    "        list_file_name.extend([file] * len(diff_time_one_file))"
   ]
  },
  {
   "cell_type": "code",
   "execution_count": 7,
   "metadata": {},
   "outputs": [],
   "source": [
    "i = np.argmin(list_diff_time)"
   ]
  },
  {
   "cell_type": "code",
   "execution_count": 8,
   "metadata": {},
   "outputs": [
    {
     "data": {
      "text/plain": [
       "-19.885325999999992"
      ]
     },
     "execution_count": 8,
     "metadata": {},
     "output_type": "execute_result"
    }
   ],
   "source": [
    "list_diff_time[i]"
   ]
  },
  {
   "cell_type": "code",
   "execution_count": 9,
   "metadata": {},
   "outputs": [
    {
     "data": {
      "text/plain": [
       "'132016.csv'"
      ]
     },
     "execution_count": 9,
     "metadata": {},
     "output_type": "execute_result"
    }
   ],
   "source": [
    "list_file_name[i]"
   ]
  },
  {
   "cell_type": "code",
   "execution_count": 10,
   "metadata": {},
   "outputs": [],
   "source": [
    "df_one_file = df_comb[df_comb[\"File\"]==list_file_name[i]].reset_index()"
   ]
  },
  {
   "cell_type": "code",
   "execution_count": 11,
   "metadata": {},
   "outputs": [
    {
     "data": {
      "text/html": [
       "<div>\n",
       "<style scoped>\n",
       "    .dataframe tbody tr th:only-of-type {\n",
       "        vertical-align: middle;\n",
       "    }\n",
       "\n",
       "    .dataframe tbody tr th {\n",
       "        vertical-align: top;\n",
       "    }\n",
       "\n",
       "    .dataframe thead th {\n",
       "        text-align: right;\n",
       "    }\n",
       "</style>\n",
       "<table border=\"1\" class=\"dataframe\">\n",
       "  <thead>\n",
       "    <tr style=\"text-align: right;\">\n",
       "      <th></th>\n",
       "      <th>level_0</th>\n",
       "      <th>index</th>\n",
       "      <th>Start</th>\n",
       "      <th>End</th>\n",
       "      <th>Condition</th>\n",
       "      <th>Label</th>\n",
       "      <th>File</th>\n",
       "    </tr>\n",
       "  </thead>\n",
       "  <tbody>\n",
       "    <tr>\n",
       "      <th>0</th>\n",
       "      <td>2385</td>\n",
       "      <td>0</td>\n",
       "      <td>76.564653</td>\n",
       "      <td>96.705306</td>\n",
       "      <td>2</td>\n",
       "      <td>jackhammer</td>\n",
       "      <td>132016.csv</td>\n",
       "    </tr>\n",
       "    <tr>\n",
       "      <th>1</th>\n",
       "      <td>2899</td>\n",
       "      <td>0</td>\n",
       "      <td>46.661108</td>\n",
       "      <td>96.449979</td>\n",
       "      <td>2</td>\n",
       "      <td>street_music</td>\n",
       "      <td>132016.csv</td>\n",
       "    </tr>\n",
       "  </tbody>\n",
       "</table>\n",
       "</div>"
      ],
      "text/plain": [
       "   level_0  index      Start        End  Condition         Label        File\n",
       "0     2385      0  76.564653  96.705306          2    jackhammer  132016.csv\n",
       "1     2899      0  46.661108  96.449979          2  street_music  132016.csv"
      ]
     },
     "execution_count": 11,
     "metadata": {},
     "output_type": "execute_result"
    }
   ],
   "source": [
    "df_one_file"
   ]
  },
  {
   "cell_type": "code",
   "execution_count": 12,
   "metadata": {},
   "outputs": [],
   "source": [
    "list_diff_time = []\n",
    "list_file_name = []\n",
    "for file in np.unique(df_comb[\"File\"]):\n",
    "    df_one_file = df_comb[df_comb[\"File\"]==file].reset_index()\n",
    "    for label in np.unique(df_one_file[\"Label\"]):\n",
    "        df_one_label = df_one_file[df_one_file[\"Label\"]==label]\n",
    "        if len(df_one_label) > 1:\n",
    "            start_times = np.sort(df_one_label[\"Start\"])\n",
    "            end_times = np.sort(df_one_label[\"End\"])\n",
    "            diff_time_one_label = start_times[1:] - end_times[:1]\n",
    "            list_diff_time.extend(diff_time_one_label)\n",
    "            list_file_name.extend([file]*len(diff_time_one_label))"
   ]
  },
  {
   "cell_type": "code",
   "execution_count": 13,
   "metadata": {},
   "outputs": [
    {
     "data": {
      "image/png": "[encoded data removed]",
      "text/plain": [
       "<Figure size 432x288 with 1 Axes>"
      ]
     },
     "metadata": {},
     "output_type": "display_data"
    }
   ],
   "source": [
    "plt.figure()\n",
    "plt.hist(list_diff_time,bins=int(np.floor(np.max(list_diff_time))))\n",
    "plt.show()"
   ]
  },
  {
   "cell_type": "code",
   "execution_count": 14,
   "metadata": {},
   "outputs": [],
   "source": [
    "array_diff_time = np.array(list_diff_time)"
   ]
  },
  {
   "cell_type": "code",
   "execution_count": 15,
   "metadata": {},
   "outputs": [
    {
     "data": {
      "image/png": "[encoded data removed]",
      "text/plain": [
       "<Figure size 432x288 with 1 Axes>"
      ]
     },
     "metadata": {},
     "output_type": "display_data"
    }
   ],
   "source": [
    "plt.figure()\n",
    "plt.hist(array_diff_time[array_diff_time < 1],bins=100)\n",
    "plt.show()"
   ]
  },
  {
   "cell_type": "code",
   "execution_count": 22,
   "metadata": {},
   "outputs": [],
   "source": [
    "path_urban_data_folder = os.getcwd()\n",
    "example_urban_data_folder = os.path.join(\n",
    "    path_urban_data_folder, \"data\", \"ExampleUrbanSound\", \"data\"\n",
    ")\n",
    "if not os.path.isdir(example_urban_data_folder):\n",
    "    os.makedirs(example_urban_data_folder)"
   ]
  },
  {
   "cell_type": "code",
   "execution_count": 23,
   "metadata": {},
   "outputs": [],
   "source": [
    "seed = 0\n",
    "np.random.seed(seed)\n",
    "example_file_name_list = [\"132016.csv\"]\n",
    "\n",
    "for label in np.unique(df_comb[\"Label\"]):\n",
    "    for cond in np.unique(df_comb[\"Condition\"]):\n",
    "        df_one_type = df_comb[\n",
    "            (df_comb[\"Label\"] == label) & (df_comb[\"Condition\"] == cond)\n",
    "        ].reset_index()\n",
    "        sel_index = np.random.randint(0, len(df_one_type) - 1)\n",
    "        example_file_name_list.append(df_one_type[\"File\"][sel_index])"
   ]
  },
  {
   "cell_type": "code",
   "execution_count": 24,
   "metadata": {},
   "outputs": [],
   "source": [
    "list_example_file_paths = []\n",
    "path = urban_data_folder\n",
    "for example_file_name in example_file_name_list:\n",
    "    for root, dirs, files in os.walk(path):\n",
    "        for file in files:\n",
    "            if example_file_name.split(\".\")[0] in file:\n",
    "                list_example_file_paths.append(os.path.join(root, file))"
   ]
  },
  {
   "cell_type": "code",
   "execution_count": 25,
   "metadata": {},
   "outputs": [],
   "source": [
    "file_path = list_example_file_paths[0]"
   ]
  },
  {
   "cell_type": "code",
   "execution_count": 27,
   "metadata": {},
   "outputs": [],
   "source": [
    "for file_path in list_example_file_paths:\n",
    "    folders, file_name = os.path.split(file_path)\n",
    "    parent_folder, child_folder = os.path.split(folders)\n",
    "    dst_folder = os.path.join(example_urban_data_folder,child_folder)\n",
    "    if not os.path.isdir(dst_folder):\n",
    "        os.makedirs(dst_folder)\n",
    "    dst = os.path.join(dst_folder, file_name)\n",
    "    src = file_path\n",
    "    shutil.copyfile(src, dst)"
   ]
  },
  {
   "cell_type": "code",
   "execution_count": 28,
   "metadata": {},
   "outputs": [],
   "source": [
    "urban_data_folder = example_urban_data_folder"
   ]
  },
  {
   "cell_type": "code",
   "execution_count": 29,
   "metadata": {},
   "outputs": [],
   "source": [
    "all_urban_label_folders = [\n",
    "    name\n",
    "    for name in os.listdir(urban_data_folder)\n",
    "    if os.path.isdir(os.path.join(urban_data_folder, name))\n",
    "]\n",
    "\n",
    "list_df = []\n",
    "for folder in all_urban_label_folders:\n",
    "    all_csv_file_names = [\n",
    "        name\n",
    "        for name in os.listdir(os.path.join(urban_data_folder, folder))\n",
    "        if \".csv\" in name\n",
    "    ]\n",
    "    for csv_file in all_csv_file_names:\n",
    "        df = pd.read_csv(\n",
    "            os.path.join(urban_data_folder, folder, csv_file),\n",
    "            names=[\"Start\", \"End\", \"Condition\", \"Label\"],\n",
    "        )\n",
    "        df[\"File\"] = csv_file\n",
    "        list_df.append(df)\n",
    "        \n",
    "df_comb = pd.concat(list_df).reset_index()"
   ]
  },
  {
   "cell_type": "code",
   "execution_count": 39,
   "metadata": {},
   "outputs": [
    {
     "name": "stdout",
     "output_type": "stream",
     "text": [
      "0.0\n",
      "105289.csv\n",
      "500.90122199999996\n",
      "209992.csv\n"
     ]
    }
   ],
   "source": [
    "list_diff_time = []\n",
    "list_file_name = []\n",
    "for file in np.unique(df_comb[\"File\"]):\n",
    "    df_one_file = df_comb[df_comb[\"File\"]==file].reset_index()\n",
    "    for label in np.unique(df_one_file[\"Label\"]):\n",
    "        df_one_label = df_one_file[df_one_file[\"Label\"]==label]\n",
    "        if len(df_one_label) > 1:\n",
    "            start_times = np.sort(df_one_label[\"Start\"])\n",
    "            end_times = np.sort(df_one_label[\"End\"])\n",
    "            diff_time_one_label = start_times[1:] - end_times[:1]\n",
    "            list_diff_time.extend(diff_time_one_label)\n",
    "            list_file_name.extend([file]*len(diff_time_one_label))\n",
    "            \n",
    "print(np.min(list_diff_time))\n",
    "print(list_file_name[np.argmin(list_diff_time)])\n",
    "print(np.max(list_diff_time))\n",
    "print(list_file_name[np.argmax(list_diff_time)])"
   ]
  },
  {
   "cell_type": "code",
   "execution_count": 32,
   "metadata": {},
   "outputs": [],
   "source": [
    "df_comb['Audacity_Label'] = \"C\" + df_comb['Condition'].astype(str) + \"-\" + df_comb['Label']"
   ]
  },
  {
   "cell_type": "code",
   "execution_count": 31,
   "metadata": {},
   "outputs": [],
   "source": [
    "list_audacity_file_paths = []\n",
    "path = example_urban_data_folder\n",
    "for example_file_name in example_file_name_list:\n",
    "    for root, dirs, files in os.walk(path):\n",
    "        for file in files:\n",
    "            if example_file_name.split(\".\")[0] in file and \".csv\" not in file:\n",
    "                list_audacity_file_paths.append(os.path.join(root, file))"
   ]
  },
  {
   "cell_type": "code",
   "execution_count": 34,
   "metadata": {},
   "outputs": [],
   "source": [
    "current_path = os.getcwd()\n",
    "for_audacity_urban_data_folder = os.path.join(current_path,\"data\",\"derivatives\",\"ExampleUrbanSound4Audacity\",\"data\")\n",
    "if not os.path.isdir(for_audacity_urban_data_folder):\n",
    "    os.makedirs(for_audacity_urban_data_folder)"
   ]
  },
  {
   "cell_type": "code",
   "execution_count": 35,
   "metadata": {},
   "outputs": [],
   "source": [
    "dst_folder = for_audacity_urban_data_folder\n",
    "for file_path in list_audacity_file_paths:\n",
    "    folders, file_name = os.path.split(file_path)\n",
    "    if not os.path.isdir(dst_folder):\n",
    "        os.makedirs(dst_folder)\n",
    "    dst = os.path.join(dst_folder, file_name)\n",
    "    src = file_path\n",
    "    shutil.copyfile(src, dst)"
   ]
  },
  {
   "cell_type": "code",
   "execution_count": 37,
   "metadata": {},
   "outputs": [],
   "source": [
    "for file in np.unique(df_comb[\"File\"]):\n",
    "    df_one_file = df_comb[df_comb[\"File\"]==file].reset_index()\n",
    "    df_for_audacity = df_one_file.loc[:,[\"Start\",\"End\",\"Audacity_Label\"]]\n",
    "    txt_file_name = file.split(\".\")[0] + \"_labels.txt\"\n",
    "    txt_file_path = os.path.join(for_audacity_urban_data_folder, txt_file_name)\n",
    "    df_for_audacity.to_csv(txt_file_path, sep=\"\\t\", header=None, index=None)"
   ]
  }
 ],
 "metadata": {
  "kernelspec": {
   "display_name": "Python 3 (ipykernel)",
   "language": "python",
   "name": "python3"
  },
  "language_info": {
   "codemirror_mode": {
    "name": "ipython",
    "version": 3
   },
   "file_extension": ".py",
   "mimetype": "text/x-python",
   "name": "python",
   "nbconvert_exporter": "python",
   "pygments_lexer": "ipython3",
   "version": "3.9.12"
  },
  "toc": {
   "base_numbering": 1,
   "nav_menu": {},
   "number_sections": true,
   "sideBar": true,
   "skip_h1_title": false,
   "title_cell": "Table of Contents",
   "title_sidebar": "Contents",
   "toc_cell": false,
   "toc_position": {},
   "toc_section_display": true,
   "toc_window_display": false
  }
 },
 "nbformat": 4,
 "nbformat_minor": 2
}
